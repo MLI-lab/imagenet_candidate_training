{
 "cells": [
  {
   "cell_type": "code",
   "execution_count": 1,
   "metadata": {},
   "outputs": [],
   "source": [
    "import os\n",
    "import json\n",
    "import pathlib\n",
    "import shutil"
   ]
  },
  {
   "cell_type": "code",
   "execution_count": null,
   "metadata": {},
   "outputs": [],
   "source": [
    "val_dir = pathlib.Path('/root/dockspace/imagenet_candidate_training/data/ILSVRC/Data/CLS-LOC/val')\n",
    "out_dir = pathlib.Path('/root/dockspace/imagenet_candidate_training/data/test')"
   ]
  },
  {
   "cell_type": "code",
   "execution_count": null,
   "metadata": {},
   "outputs": [],
   "source": [
    "json_dir = pathlib.Path('/root/dockspace/search_download_images/flickr/')\n",
    "\n",
    "with open(json_dir / 'chosen_wnids.json') as fn:\n",
    "    chosen_wnids = json.load(fn)\n",
    "    \n",
    "with open('val_labels.txt', 'r') as fn:\n",
    "    val_labels = fn.readlines()"
   ]
  },
  {
   "cell_type": "code",
   "execution_count": null,
   "metadata": {},
   "outputs": [],
   "source": [
    "for cur_line in val_labels:\n",
    "    _, cur_img, cur_wnid = cur_line.strip().strip('/').split(' ')\n",
    "    \n",
    "    if cur_wnid in chosen_wnids:\n",
    "        cur_im_dir = val_dir / cur_img\n",
    "        new_im_dir = out_dir / cur_wnid\n",
    "        new_im_dir.mkdir(parents=True, exist_ok=True)\n",
    "        cur_im_dir.rename(new_im_dir / cur_img)"
   ]
  },
  {
   "cell_type": "code",
   "execution_count": null,
   "metadata": {},
   "outputs": [],
   "source": []
  },
  {
   "cell_type": "code",
   "execution_count": null,
   "metadata": {},
   "outputs": [],
   "source": [
    "train_dir = pathlib.Path('/root/dockspace/imagenet_candidate_training/data/ILSVRC/Data/CLS-LOC/train')\n",
    "out_train_dir = pathlib.Path('/root/dockspace/imagenet_candidate_training/data/train')"
   ]
  },
  {
   "cell_type": "code",
   "execution_count": null,
   "metadata": {},
   "outputs": [],
   "source": [
    "for cur_wnid_path in train_dir.glob('*'):\n",
    "    if cur_wnid_path.name in chosen_wnids:\n",
    "        cur_wnid_path.rename(out_train_dir / cur_wnid_path.name)"
   ]
  },
  {
   "cell_type": "code",
   "execution_count": null,
   "metadata": {},
   "outputs": [],
   "source": [
    "pathlib.Path('/root/dockspace/imagenet_candidate_training/data/ILSVRC/Data/CLS-LOC/train/n02091831').name"
   ]
  },
  {
   "cell_type": "code",
   "execution_count": null,
   "metadata": {},
   "outputs": [],
   "source": []
  },
  {
   "cell_type": "code",
   "execution_count": null,
   "metadata": {},
   "outputs": [],
   "source": [
    "imagenetv2_dir = pathlib.Path('/root/dockspace/imagenet_candidate_training/data/imagenetv2-matched-frequency/')\n",
    "json_dir = pathlib.Path('/root/dockspace/search_download_images/flickr/')\n",
    "\n",
    "with open(json_dir / 'imagenet_idx_wnid_name.json') as fn:\n",
    "    idx_wnid_dict = json.load(fn)\n",
    "    \n",
    "with open(json_dir / 'chosen_wnids.json') as fn:\n",
    "    chosen_wnids = json.load(fn)"
   ]
  },
  {
   "cell_type": "code",
   "execution_count": null,
   "metadata": {},
   "outputs": [],
   "source": [
    "for lbl_dir in imagenetv2_dir.glob('*'):\n",
    "    cur_idx = lbl_dir.name\n",
    "    cur_wnid = list(idx_wnid_dict[cur_idx].keys())[0]\n",
    "    \n",
    "    if cur_wnid in chosen_wnids:\n",
    "        lbl_dir.rename(lbl_dir.parent / cur_wnid)\n",
    "    else:\n",
    "        for cur_img in lbl_dir.glob('*'):\n",
    "            print('[INFO]: deleting image {}'.format(cur_img))\n",
    "            cur_img.unlink()\n",
    "        lbl_dir.rmdir()"
   ]
  },
  {
   "cell_type": "markdown",
   "metadata": {},
   "source": [
    "### Check and identify corrupt image files"
   ]
  },
  {
   "cell_type": "code",
   "execution_count": 27,
   "metadata": {},
   "outputs": [],
   "source": [
    "from PIL import Image\n",
    "from IPython.core.debugger import set_trace\n",
    "%matplotlib inline\n",
    "import matplotlib.pyplot as plt\n",
    "import numpy as np"
   ]
  },
  {
   "cell_type": "code",
   "execution_count": 28,
   "metadata": {},
   "outputs": [],
   "source": [
    "def check_corrupt_files(check_dir):\n",
    "    corrupt_files = []\n",
    "    corrupt_count = {}\n",
    "    \n",
    "#     set_trace()\n",
    "\n",
    "    for root, _, files in os.walk(check_dir):\n",
    "        if files:\n",
    "            print('Investigating {}'.format(root))\n",
    "            corrupt_count[root.split('/')[-1]] = 0\n",
    "            for cur_file in files:\n",
    "                cur_fname = os.path.join(root, cur_file)\n",
    "                try:\n",
    "                    with open(cur_fname, 'rb') as fn:\n",
    "                        img = Image.open(fn)\n",
    "                        np_img = np.asarray(img.convert('RGB'))\n",
    "                except:\n",
    "                    corrupt_files.append(cur_fname)\n",
    "                    corrupt_count[root.split('/')[-1]] += 1\n",
    "            print('DONE')\n",
    "    return corrupt_files, corrupt_count"
   ]
  },
  {
   "cell_type": "code",
   "execution_count": 29,
   "metadata": {},
   "outputs": [
    {
     "name": "stdout",
     "output_type": "stream",
     "text": [
      "Investigating /root/dockspace/imagenet_candidate_training/data/candidate/n01914609\n",
      "DONE\n",
      "Investigating /root/dockspace/imagenet_candidate_training/data/candidate/n02129165\n",
      "DONE\n",
      "Investigating /root/dockspace/imagenet_candidate_training/data/candidate/n04146614\n",
      "DONE\n",
      "Investigating /root/dockspace/imagenet_candidate_training/data/candidate/n03355925\n",
      "DONE\n",
      "Investigating /root/dockspace/imagenet_candidate_training/data/candidate/n02229544\n"
     ]
    },
    {
     "name": "stderr",
     "output_type": "stream",
     "text": [
      "/opt/conda/lib/python3.6/site-packages/PIL/Image.py:953: UserWarning: Palette images with Transparency   expressed in bytes should be converted to RGBA images\n",
      "  'to RGBA images')\n"
     ]
    },
    {
     "name": "stdout",
     "output_type": "stream",
     "text": [
      "DONE\n",
      "Investigating /root/dockspace/imagenet_candidate_training/data/candidate/n02509815\n",
      "DONE\n",
      "Investigating /root/dockspace/imagenet_candidate_training/data/candidate/n01984695\n",
      "DONE\n",
      "Investigating /root/dockspace/imagenet_candidate_training/data/candidate/n02788148\n",
      "DONE\n",
      "Investigating /root/dockspace/imagenet_candidate_training/data/candidate/n02802426\n",
      "DONE\n",
      "Investigating /root/dockspace/imagenet_candidate_training/data/candidate/n03388043\n",
      "DONE\n",
      "Investigating /root/dockspace/imagenet_candidate_training/data/candidate/n04356056\n",
      "DONE\n",
      "Investigating /root/dockspace/imagenet_candidate_training/data/candidate/n04532670\n",
      "DONE\n",
      "Investigating /root/dockspace/imagenet_candidate_training/data/candidate/n02486410\n",
      "DONE\n",
      "Investigating /root/dockspace/imagenet_candidate_training/data/candidate/n02268853\n",
      "DONE\n",
      "Investigating /root/dockspace/imagenet_candidate_training/data/candidate/n04399382\n",
      "DONE\n",
      "Investigating /root/dockspace/imagenet_candidate_training/data/candidate/n02843684\n",
      "DONE\n",
      "Investigating /root/dockspace/imagenet_candidate_training/data/candidate/n07615774\n",
      "DONE\n",
      "Investigating /root/dockspace/imagenet_candidate_training/data/candidate/n02730930\n",
      "DONE\n",
      "Investigating /root/dockspace/imagenet_candidate_training/data/candidate/n03662601\n",
      "DONE\n",
      "Investigating /root/dockspace/imagenet_candidate_training/data/candidate/n01770393\n",
      "DONE\n",
      "Investigating /root/dockspace/imagenet_candidate_training/data/candidate/n02950826\n",
      "DONE\n",
      "Investigating /root/dockspace/imagenet_candidate_training/data/candidate/n03201208\n",
      "DONE\n",
      "Investigating /root/dockspace/imagenet_candidate_training/data/candidate/n02814533\n",
      "DONE\n",
      "Investigating /root/dockspace/imagenet_candidate_training/data/candidate/n01945685\n",
      "DONE\n",
      "Investigating /root/dockspace/imagenet_candidate_training/data/candidate/n02132136\n",
      "DONE\n",
      "Investigating /root/dockspace/imagenet_candidate_training/data/candidate/n02395406\n",
      "DONE\n",
      "Investigating /root/dockspace/imagenet_candidate_training/data/candidate/n01910747\n",
      "DONE\n",
      "Investigating /root/dockspace/imagenet_candidate_training/data/candidate/n03089624\n",
      "DONE\n",
      "Investigating /root/dockspace/imagenet_candidate_training/data/candidate/n03670208\n",
      "DONE\n",
      "Investigating /root/dockspace/imagenet_candidate_training/data/candidate/n03977966\n",
      "DONE\n",
      "Investigating /root/dockspace/imagenet_candidate_training/data/candidate/n02415577\n",
      "DONE\n",
      "Investigating /root/dockspace/imagenet_candidate_training/data/candidate/n03100240\n",
      "DONE\n",
      "Investigating /root/dockspace/imagenet_candidate_training/data/candidate/n07579787\n",
      "DONE\n",
      "Investigating /root/dockspace/imagenet_candidate_training/data/candidate/n02165456\n",
      "DONE\n",
      "Investigating /root/dockspace/imagenet_candidate_training/data/candidate/n04070727\n",
      "DONE\n",
      "Investigating /root/dockspace/imagenet_candidate_training/data/candidate/n02841315\n",
      "DONE\n",
      "Investigating /root/dockspace/imagenet_candidate_training/data/candidate/n04074963\n",
      "DONE\n",
      "Investigating /root/dockspace/imagenet_candidate_training/data/candidate/n01770081\n",
      "DONE\n",
      "Investigating /root/dockspace/imagenet_candidate_training/data/candidate/n02279972\n",
      "DONE\n",
      "Investigating /root/dockspace/imagenet_candidate_training/data/candidate/n02276258\n",
      "DONE\n",
      "Investigating /root/dockspace/imagenet_candidate_training/data/candidate/n02410509\n",
      "DONE\n",
      "Investigating /root/dockspace/imagenet_candidate_training/data/candidate/n02793495\n",
      "DONE\n",
      "Investigating /root/dockspace/imagenet_candidate_training/data/candidate/n02099601\n",
      "DONE\n",
      "Investigating /root/dockspace/imagenet_candidate_training/data/candidate/n03126707\n",
      "DONE\n",
      "Investigating /root/dockspace/imagenet_candidate_training/data/candidate/n01944390\n",
      "DONE\n",
      "Investigating /root/dockspace/imagenet_candidate_training/data/candidate/n07747607\n",
      "DONE\n",
      "Investigating /root/dockspace/imagenet_candidate_training/data/candidate/n04417672\n",
      "DONE\n",
      "Investigating /root/dockspace/imagenet_candidate_training/data/candidate/n02226429\n",
      "DONE\n",
      "Investigating /root/dockspace/imagenet_candidate_training/data/candidate/n03976657\n",
      "DONE\n",
      "Investigating /root/dockspace/imagenet_candidate_training/data/candidate/n03424325\n",
      "DONE\n",
      "Investigating /root/dockspace/imagenet_candidate_training/data/candidate/n02699494\n",
      "DONE\n",
      "Investigating /root/dockspace/imagenet_candidate_training/data/candidate/n01443537\n",
      "DONE\n",
      "Investigating /root/dockspace/imagenet_candidate_training/data/candidate/n02906734\n",
      "DONE\n",
      "Investigating /root/dockspace/imagenet_candidate_training/data/candidate/n07614500\n",
      "DONE\n",
      "Investigating /root/dockspace/imagenet_candidate_training/data/candidate/n06596364\n",
      "DONE\n",
      "Investigating /root/dockspace/imagenet_candidate_training/data/candidate/n03770439\n",
      "DONE\n",
      "Investigating /root/dockspace/imagenet_candidate_training/data/candidate/n01985128\n",
      "DONE\n",
      "Investigating /root/dockspace/imagenet_candidate_training/data/candidate/n02917067\n",
      "DONE\n",
      "Investigating /root/dockspace/imagenet_candidate_training/data/candidate/n04540053\n",
      "DONE\n",
      "Investigating /root/dockspace/imagenet_candidate_training/data/candidate/n04251144\n",
      "DONE\n",
      "Investigating /root/dockspace/imagenet_candidate_training/data/candidate/n09193705\n",
      "DONE\n",
      "Investigating /root/dockspace/imagenet_candidate_training/data/candidate/n04259630\n",
      "DONE\n",
      "Investigating /root/dockspace/imagenet_candidate_training/data/candidate/n07768694\n",
      "DONE\n",
      "Investigating /root/dockspace/imagenet_candidate_training/data/candidate/n03804744\n",
      "DONE\n",
      "Investigating /root/dockspace/imagenet_candidate_training/data/candidate/n02236044\n",
      "DONE\n",
      "Investigating /root/dockspace/imagenet_candidate_training/data/candidate/n04275548\n",
      "DONE\n",
      "Investigating /root/dockspace/imagenet_candidate_training/data/candidate/n02837789\n",
      "DONE\n",
      "Investigating /root/dockspace/imagenet_candidate_training/data/candidate/n01950731\n",
      "DONE\n",
      "Investigating /root/dockspace/imagenet_candidate_training/data/candidate/n07873807\n",
      "DONE\n",
      "Investigating /root/dockspace/imagenet_candidate_training/data/candidate/n02481823\n",
      "DONE\n",
      "Investigating /root/dockspace/imagenet_candidate_training/data/candidate/n02892201\n",
      "DONE\n",
      "Investigating /root/dockspace/imagenet_candidate_training/data/candidate/n03447447\n",
      "DONE\n",
      "Investigating /root/dockspace/imagenet_candidate_training/data/candidate/n02106662\n",
      "DONE\n",
      "Investigating /root/dockspace/imagenet_candidate_training/data/candidate/n02123045\n",
      "DONE\n",
      "Investigating /root/dockspace/imagenet_candidate_training/data/candidate/n07920052\n",
      "DONE\n",
      "Investigating /root/dockspace/imagenet_candidate_training/data/candidate/n02058221\n",
      "DONE\n",
      "Investigating /root/dockspace/imagenet_candidate_training/data/candidate/n04285008\n",
      "DONE\n",
      "Investigating /root/dockspace/imagenet_candidate_training/data/candidate/n03014705\n",
      "DONE\n",
      "Investigating /root/dockspace/imagenet_candidate_training/data/candidate/n03584254\n",
      "DONE\n",
      "Investigating /root/dockspace/imagenet_candidate_training/data/candidate/n02177972\n",
      "DONE\n",
      "Investigating /root/dockspace/imagenet_candidate_training/data/candidate/n09332890\n",
      "DONE\n",
      "Investigating /root/dockspace/imagenet_candidate_training/data/candidate/n04456115\n",
      "DONE\n",
      "Investigating /root/dockspace/imagenet_candidate_training/data/candidate/n09428293\n",
      "DONE\n",
      "Investigating /root/dockspace/imagenet_candidate_training/data/candidate/n07753592\n",
      "DONE\n",
      "Investigating /root/dockspace/imagenet_candidate_training/data/candidate/n04398044\n",
      "DONE\n",
      "Investigating /root/dockspace/imagenet_candidate_training/data/candidate/n04366367\n",
      "DONE\n",
      "Investigating /root/dockspace/imagenet_candidate_training/data/candidate/n02268443\n",
      "DONE\n",
      "Investigating /root/dockspace/imagenet_candidate_training/data/candidate/n04099969\n",
      "DONE\n",
      "Investigating /root/dockspace/imagenet_candidate_training/data/candidate/n03854065\n",
      "DONE\n",
      "Investigating /root/dockspace/imagenet_candidate_training/data/candidate/n07734744\n",
      "DONE\n",
      "Investigating /root/dockspace/imagenet_candidate_training/data/candidate/n02233338\n",
      "DONE\n",
      "Investigating /root/dockspace/imagenet_candidate_training/data/candidate/n03160309\n",
      "DONE\n",
      "Investigating /root/dockspace/imagenet_candidate_training/data/candidate/n02999410\n",
      "DONE\n",
      "Investigating /root/dockspace/imagenet_candidate_training/data/candidate/n02125311\n",
      "DONE\n",
      "Investigating /root/dockspace/imagenet_candidate_training/data/candidate/n02909870\n",
      "DONE\n",
      "Investigating /root/dockspace/imagenet_candidate_training/data/candidate/n02423022\n",
      "DONE\n",
      "Investigating /root/dockspace/imagenet_candidate_training/data/candidate/n02883205\n",
      "DONE\n",
      "Investigating /root/dockspace/imagenet_candidate_training/data/candidate/n02206856\n",
      "DONE\n",
      "Investigating /root/dockspace/imagenet_candidate_training/data/candidate/n02977058\n"
     ]
    },
    {
     "name": "stdout",
     "output_type": "stream",
     "text": [
      "DONE\n",
      "Investigating /root/dockspace/imagenet_candidate_training/data/candidate/n04008634\n",
      "DONE\n",
      "Investigating /root/dockspace/imagenet_candidate_training/data/candidate/n07715103\n",
      "DONE\n",
      "Investigating /root/dockspace/imagenet_candidate_training/data/candidate/n01855672\n",
      "DONE\n",
      "Investigating /root/dockspace/imagenet_candidate_training/data/candidate/n02190166\n",
      "DONE\n",
      "Investigating /root/dockspace/imagenet_candidate_training/data/candidate/n03599486\n",
      "DONE\n",
      "Investigating /root/dockspace/imagenet_candidate_training/data/candidate/n02504458\n",
      "DONE\n",
      "Investigating /root/dockspace/imagenet_candidate_training/data/candidate/n07749582\n",
      "DONE\n",
      "Investigating /root/dockspace/imagenet_candidate_training/data/candidate/n02808440\n",
      "DONE\n",
      "Investigating /root/dockspace/imagenet_candidate_training/data/candidate/n02403003\n",
      "DONE\n",
      "Investigating /root/dockspace/imagenet_candidate_training/data/candidate/n01774750\n",
      "DONE\n",
      "Investigating /root/dockspace/imagenet_candidate_training/data/candidate/n02769748\n",
      "DONE\n",
      "Investigating /root/dockspace/imagenet_candidate_training/data/candidate/n02963159\n",
      "DONE\n",
      "Investigating /root/dockspace/imagenet_candidate_training/data/candidate/n02099712\n",
      "DONE\n",
      "Investigating /root/dockspace/imagenet_candidate_training/data/candidate/n04254777\n",
      "DONE\n",
      "Investigating /root/dockspace/imagenet_candidate_training/data/candidate/n02948072\n",
      "DONE\n",
      "Investigating /root/dockspace/imagenet_candidate_training/data/candidate/n02791270\n",
      "DONE\n",
      "Investigating /root/dockspace/imagenet_candidate_training/data/candidate/n03617480\n",
      "DONE\n",
      "Investigating /root/dockspace/imagenet_candidate_training/data/candidate/n02219486\n",
      "DONE\n",
      "Investigating /root/dockspace/imagenet_candidate_training/data/candidate/n02795169\n",
      "DONE\n",
      "Investigating /root/dockspace/imagenet_candidate_training/data/candidate/n02317335\n",
      "DONE\n",
      "Investigating /root/dockspace/imagenet_candidate_training/data/candidate/n03544143\n",
      "DONE\n",
      "Investigating /root/dockspace/imagenet_candidate_training/data/candidate/n03179701\n",
      "DONE\n",
      "Investigating /root/dockspace/imagenet_candidate_training/data/candidate/n04465501\n",
      "DONE\n",
      "Investigating /root/dockspace/imagenet_candidate_training/data/candidate/n01784675\n",
      "DONE\n",
      "Investigating /root/dockspace/imagenet_candidate_training/data/candidate/n04487081\n",
      "DONE\n",
      "Investigating /root/dockspace/imagenet_candidate_training/data/candidate/n03649909\n",
      "DONE\n",
      "Investigating /root/dockspace/imagenet_candidate_training/data/candidate/n02256656\n",
      "DONE\n",
      "Investigating /root/dockspace/imagenet_candidate_training/data/candidate/n04562935\n",
      "DONE\n",
      "Investigating /root/dockspace/imagenet_candidate_training/data/candidate/n02085620\n",
      "DONE\n",
      "Investigating /root/dockspace/imagenet_candidate_training/data/candidate/n04067472\n",
      "DONE\n",
      "Investigating /root/dockspace/imagenet_candidate_training/data/candidate/n04507155\n",
      "DONE\n",
      "Investigating /root/dockspace/imagenet_candidate_training/data/candidate/n09246464\n",
      "DONE\n",
      "Investigating /root/dockspace/imagenet_candidate_training/data/candidate/n01882714\n",
      "DONE\n",
      "Investigating /root/dockspace/imagenet_candidate_training/data/candidate/n02814860\n",
      "DONE\n",
      "Investigating /root/dockspace/imagenet_candidate_training/data/candidate/n03837869\n",
      "DONE\n",
      "Investigating /root/dockspace/imagenet_candidate_training/data/candidate/n02480495\n",
      "DONE\n"
     ]
    }
   ],
   "source": [
    "check_dir = os.path.join(os.getcwd(), 'data/candidate/')\n",
    "\n",
    "corrupt_files, corrupt_count = check_corrupt_files(check_dir)"
   ]
  },
  {
   "cell_type": "code",
   "execution_count": 30,
   "metadata": {},
   "outputs": [
    {
     "data": {
      "text/plain": [
       "{'n01914609': 0,\n",
       " 'n02129165': 1,\n",
       " 'n04146614': 1,\n",
       " 'n03355925': 0,\n",
       " 'n02229544': 0,\n",
       " 'n02509815': 0,\n",
       " 'n01984695': 0,\n",
       " 'n02788148': 0,\n",
       " 'n02802426': 0,\n",
       " 'n03388043': 0,\n",
       " 'n04356056': 1,\n",
       " 'n04532670': 0,\n",
       " 'n02486410': 0,\n",
       " 'n02268853': 0,\n",
       " 'n04399382': 0,\n",
       " 'n02843684': 1,\n",
       " 'n07615774': 2,\n",
       " 'n02730930': 0,\n",
       " 'n03662601': 0,\n",
       " 'n01770393': 0,\n",
       " 'n02950826': 2,\n",
       " 'n03201208': 1,\n",
       " 'n02814533': 0,\n",
       " 'n01945685': 0,\n",
       " 'n02132136': 0,\n",
       " 'n02395406': 1,\n",
       " 'n01910747': 0,\n",
       " 'n03089624': 0,\n",
       " 'n03670208': 1,\n",
       " 'n03977966': 0,\n",
       " 'n02415577': 0,\n",
       " 'n03100240': 0,\n",
       " 'n07579787': 0,\n",
       " 'n02165456': 0,\n",
       " 'n04070727': 0,\n",
       " 'n02841315': 0,\n",
       " 'n04074963': 1,\n",
       " 'n01770081': 0,\n",
       " 'n02279972': 0,\n",
       " 'n02276258': 0,\n",
       " 'n02410509': 0,\n",
       " 'n02793495': 9,\n",
       " 'n02099601': 1,\n",
       " 'n03126707': 0,\n",
       " 'n01944390': 0,\n",
       " 'n07747607': 0,\n",
       " 'n04417672': 0,\n",
       " 'n02226429': 0,\n",
       " 'n03976657': 2,\n",
       " 'n03424325': 0,\n",
       " 'n02699494': 2,\n",
       " 'n01443537': 0,\n",
       " 'n02906734': 0,\n",
       " 'n07614500': 1,\n",
       " 'n06596364': 0,\n",
       " 'n03770439': 6,\n",
       " 'n01985128': 0,\n",
       " 'n02917067': 0,\n",
       " 'n04540053': 0,\n",
       " 'n04251144': 0,\n",
       " 'n09193705': 1,\n",
       " 'n04259630': 0,\n",
       " 'n07768694': 1,\n",
       " 'n03804744': 0,\n",
       " 'n02236044': 0,\n",
       " 'n04275548': 0,\n",
       " 'n02837789': 0,\n",
       " 'n01950731': 0,\n",
       " 'n07873807': 0,\n",
       " 'n02481823': 0,\n",
       " 'n02892201': 1,\n",
       " 'n03447447': 0,\n",
       " 'n02106662': 0,\n",
       " 'n02123045': 0,\n",
       " 'n07920052': 0,\n",
       " 'n02058221': 0,\n",
       " 'n04285008': 1,\n",
       " 'n03014705': 0,\n",
       " 'n03584254': 0,\n",
       " 'n02177972': 0,\n",
       " 'n09332890': 0,\n",
       " 'n04456115': 0,\n",
       " 'n09428293': 0,\n",
       " 'n07753592': 0,\n",
       " 'n04398044': 0,\n",
       " 'n04366367': 1,\n",
       " 'n02268443': 0,\n",
       " 'n04099969': 0,\n",
       " 'n03854065': 0,\n",
       " 'n07734744': 6,\n",
       " 'n02233338': 0,\n",
       " 'n03160309': 0,\n",
       " 'n02999410': 0,\n",
       " 'n02125311': 3,\n",
       " 'n02909870': 0,\n",
       " 'n02423022': 0,\n",
       " 'n02883205': 1,\n",
       " 'n02206856': 0,\n",
       " 'n02977058': 0,\n",
       " 'n04008634': 0,\n",
       " 'n07715103': 0,\n",
       " 'n01855672': 1,\n",
       " 'n02190166': 0,\n",
       " 'n03599486': 0,\n",
       " 'n02504458': 0,\n",
       " 'n07749582': 0,\n",
       " 'n02808440': 1,\n",
       " 'n02403003': 0,\n",
       " 'n01774750': 0,\n",
       " 'n02769748': 2,\n",
       " 'n02963159': 0,\n",
       " 'n02099712': 0,\n",
       " 'n04254777': 0,\n",
       " 'n02948072': 1,\n",
       " 'n02791270': 0,\n",
       " 'n03617480': 1,\n",
       " 'n02219486': 0,\n",
       " 'n02795169': 2,\n",
       " 'n02317335': 0,\n",
       " 'n03544143': 1,\n",
       " 'n03179701': 1,\n",
       " 'n04465501': 0,\n",
       " 'n01784675': 0,\n",
       " 'n04487081': 0,\n",
       " 'n03649909': 0,\n",
       " 'n02256656': 0,\n",
       " 'n04562935': 2,\n",
       " 'n02085620': 1,\n",
       " 'n04067472': 0,\n",
       " 'n04507155': 1,\n",
       " 'n09246464': 3,\n",
       " 'n01882714': 0,\n",
       " 'n02814860': 0,\n",
       " 'n03837869': 0,\n",
       " 'n02480495': 0}"
      ]
     },
     "execution_count": 30,
     "metadata": {},
     "output_type": "execute_result"
    }
   ],
   "source": [
    "corrupt_count"
   ]
  },
  {
   "cell_type": "code",
   "execution_count": 31,
   "metadata": {},
   "outputs": [
    {
     "name": "stdout",
     "output_type": "stream",
     "text": [
      "[INFO]: Deleting corrupt image at /root/dockspace/imagenet_candidate_training/data/candidate/n02129165/64e3a8a9da954fe4bbb58e3a507f415c55bd73d4.jpg\n",
      "DONE\n",
      "[INFO]: Deleting corrupt image at /root/dockspace/imagenet_candidate_training/data/candidate/n04146614/1c5f33adb53f5c426f481b5b647271b5311ee7b3.jpg\n",
      "DONE\n",
      "[INFO]: Deleting corrupt image at /root/dockspace/imagenet_candidate_training/data/candidate/n04356056/a4dd57ebdfdaf408820043ec7e0176f50d694270.jpg\n",
      "DONE\n",
      "[INFO]: Deleting corrupt image at /root/dockspace/imagenet_candidate_training/data/candidate/n02843684/1db489b34ca1a306a3c0daf7d737bffa1f7cc31e.png\n",
      "DONE\n",
      "[INFO]: Deleting corrupt image at /root/dockspace/imagenet_candidate_training/data/candidate/n07615774/a31d2deab6b322274a2f5cc838de10eb9ccc7963.png\n",
      "DONE\n",
      "[INFO]: Deleting corrupt image at /root/dockspace/imagenet_candidate_training/data/candidate/n07615774/2819ef5fa53be2e8df32f3ffe314130cd4845b63.png\n",
      "DONE\n",
      "[INFO]: Deleting corrupt image at /root/dockspace/imagenet_candidate_training/data/candidate/n02950826/caf95306207a19ff8b47f6db7bc9f564298c8d73.png\n",
      "DONE\n",
      "[INFO]: Deleting corrupt image at /root/dockspace/imagenet_candidate_training/data/candidate/n02950826/59ae2cf50a689296e3ae07cbeb93098806c8f3d2.jpg\n",
      "DONE\n",
      "[INFO]: Deleting corrupt image at /root/dockspace/imagenet_candidate_training/data/candidate/n03201208/b8d4fdac5fe4dbbc68f44bfc43d74c46af6a28f0.jpg\n",
      "DONE\n",
      "[INFO]: Deleting corrupt image at /root/dockspace/imagenet_candidate_training/data/candidate/n02395406/109ff0ccb31d35e23ebed7d67145a63ea332b807.jpg\n",
      "DONE\n",
      "[INFO]: Deleting corrupt image at /root/dockspace/imagenet_candidate_training/data/candidate/n03670208/f1e00beab3abc266881d3a59912e0a581ce610b5.png\n",
      "DONE\n",
      "[INFO]: Deleting corrupt image at /root/dockspace/imagenet_candidate_training/data/candidate/n04074963/78f09fab7101d138af3ec8c70df2e716b1a9148b.jpg\n",
      "DONE\n",
      "[INFO]: Deleting corrupt image at /root/dockspace/imagenet_candidate_training/data/candidate/n02793495/0769ccc7e347c1f1797277688e4460d4be5962a8.jpg\n",
      "DONE\n",
      "[INFO]: Deleting corrupt image at /root/dockspace/imagenet_candidate_training/data/candidate/n02793495/90d5ff3658c93fa376188b32e1b6fe2cd8f96d13.jpg\n",
      "DONE\n",
      "[INFO]: Deleting corrupt image at /root/dockspace/imagenet_candidate_training/data/candidate/n02793495/c6a090b44b1cd0d9c33cb3fc8930e6a30a0d9363.jpg\n",
      "DONE\n",
      "[INFO]: Deleting corrupt image at /root/dockspace/imagenet_candidate_training/data/candidate/n02793495/5ee396ca4fd06f8498e0278458b40e1c12e6ed41.jpg\n",
      "DONE\n",
      "[INFO]: Deleting corrupt image at /root/dockspace/imagenet_candidate_training/data/candidate/n02793495/7e4a090b35119abfc2a5875854286273e723067c.jpg\n",
      "DONE\n",
      "[INFO]: Deleting corrupt image at /root/dockspace/imagenet_candidate_training/data/candidate/n02793495/9b11808fd0f6a913de862641d9e4fc93b693574e.jpg\n",
      "DONE\n",
      "[INFO]: Deleting corrupt image at /root/dockspace/imagenet_candidate_training/data/candidate/n02793495/aa782c3850a47fc92a6fcdb3e5b81388fe5c48a9.jpg\n",
      "DONE\n",
      "[INFO]: Deleting corrupt image at /root/dockspace/imagenet_candidate_training/data/candidate/n02793495/c27dbf2e0ccdbee4c5a581e63966391db936c9e9.jpg\n",
      "DONE\n",
      "[INFO]: Deleting corrupt image at /root/dockspace/imagenet_candidate_training/data/candidate/n02793495/f5b83154bdb7af8c68775e5f6637e986d7a14f12.jpg\n",
      "DONE\n",
      "[INFO]: Deleting corrupt image at /root/dockspace/imagenet_candidate_training/data/candidate/n02099601/b170184d4c28ff66dbac15c2247dca46259ac4cb.jpg\n",
      "DONE\n",
      "[INFO]: Deleting corrupt image at /root/dockspace/imagenet_candidate_training/data/candidate/n03976657/eaa1911cf22e932be3e0643ee32bca5ac935fab5.jpg\n",
      "DONE\n",
      "[INFO]: Deleting corrupt image at /root/dockspace/imagenet_candidate_training/data/candidate/n03976657/3cf8f23cea876454f030eaeb07ea43f77d78ef6b.png\n",
      "DONE\n",
      "[INFO]: Deleting corrupt image at /root/dockspace/imagenet_candidate_training/data/candidate/n02699494/f3c2f50a3fb6b876897d95f8dc3f9636b9fec74c.png\n",
      "DONE\n",
      "[INFO]: Deleting corrupt image at /root/dockspace/imagenet_candidate_training/data/candidate/n02699494/fa54d8771905b6d79b43f1dcc77a790a87aff524.jpg\n",
      "DONE\n",
      "[INFO]: Deleting corrupt image at /root/dockspace/imagenet_candidate_training/data/candidate/n07614500/f33b8eccaaf838a6c820fd09e672a274533dd78c.png\n",
      "DONE\n",
      "[INFO]: Deleting corrupt image at /root/dockspace/imagenet_candidate_training/data/candidate/n03770439/7c1580b3671dec27552735c57e2ea41d475c6e3e.png\n",
      "DONE\n",
      "[INFO]: Deleting corrupt image at /root/dockspace/imagenet_candidate_training/data/candidate/n03770439/ad6208d7ca4db8166ba14993f3aada89ce4fb029.png\n",
      "DONE\n",
      "[INFO]: Deleting corrupt image at /root/dockspace/imagenet_candidate_training/data/candidate/n03770439/3e90268d703b32dfb7d9a255108790358728e95c.png\n",
      "DONE\n",
      "[INFO]: Deleting corrupt image at /root/dockspace/imagenet_candidate_training/data/candidate/n03770439/1b3736bf745dfce2269d881efa06c18b3065b6dd.png\n",
      "DONE\n",
      "[INFO]: Deleting corrupt image at /root/dockspace/imagenet_candidate_training/data/candidate/n03770439/947576af30911b195fc3b058f3ae7da2219738ca.png\n",
      "DONE\n",
      "[INFO]: Deleting corrupt image at /root/dockspace/imagenet_candidate_training/data/candidate/n03770439/8c8440baa3a8303485ce16f4a2935afbf9004abe.png\n",
      "DONE\n",
      "[INFO]: Deleting corrupt image at /root/dockspace/imagenet_candidate_training/data/candidate/n09193705/01d6b3874a03cd5563a101dd63aaa90889eb1d99.jpg\n",
      "DONE\n",
      "[INFO]: Deleting corrupt image at /root/dockspace/imagenet_candidate_training/data/candidate/n07768694/f7c2c03b5bc20e58a125cfdb2e9c014f6eebc24b.png\n",
      "DONE\n",
      "[INFO]: Deleting corrupt image at /root/dockspace/imagenet_candidate_training/data/candidate/n02892201/5d281dc470bd35dc568471e4900b7facca5242a3.png\n",
      "DONE\n",
      "[INFO]: Deleting corrupt image at /root/dockspace/imagenet_candidate_training/data/candidate/n04285008/050bedeeec0547d142d8028022f967fec5c54126.jpg\n",
      "DONE\n",
      "[INFO]: Deleting corrupt image at /root/dockspace/imagenet_candidate_training/data/candidate/n04366367/b3504db08dc28161e0c91812d0ed6f58e0babc99.jpg\n",
      "DONE\n",
      "[INFO]: Deleting corrupt image at /root/dockspace/imagenet_candidate_training/data/candidate/n07734744/c477fd09d70168caa4536b8c2d6ea6ae9da8526c.png\n",
      "DONE\n",
      "[INFO]: Deleting corrupt image at /root/dockspace/imagenet_candidate_training/data/candidate/n07734744/07fc6a2ae75ac38896780416de599c551ae67d86.png\n",
      "DONE\n",
      "[INFO]: Deleting corrupt image at /root/dockspace/imagenet_candidate_training/data/candidate/n07734744/3a006c991e1aafa1b83ea73ac73c869f59b83921.png\n",
      "DONE\n",
      "[INFO]: Deleting corrupt image at /root/dockspace/imagenet_candidate_training/data/candidate/n07734744/9ca4e8518cd97f54cc27eced3c02f86d12d9c664.png\n",
      "DONE\n",
      "[INFO]: Deleting corrupt image at /root/dockspace/imagenet_candidate_training/data/candidate/n07734744/8cdaac9192152fdc2f4ffb8d1204fdad6a2b4619.png\n",
      "DONE\n",
      "[INFO]: Deleting corrupt image at /root/dockspace/imagenet_candidate_training/data/candidate/n07734744/fbfa30651f8564383dbc36842a40d15758cb0af3.png\n",
      "DONE\n",
      "[INFO]: Deleting corrupt image at /root/dockspace/imagenet_candidate_training/data/candidate/n02125311/e5915a833f5d04005dcd269be759d9a5bfa9a940.png\n",
      "DONE\n",
      "[INFO]: Deleting corrupt image at /root/dockspace/imagenet_candidate_training/data/candidate/n02125311/1e025f6e07c4b86123fdd86cbc2a424acdb3e1c7.png\n",
      "DONE\n",
      "[INFO]: Deleting corrupt image at /root/dockspace/imagenet_candidate_training/data/candidate/n02125311/b77c8ce806b0eaa2a63152559204da0e071520ff.png\n",
      "DONE\n",
      "[INFO]: Deleting corrupt image at /root/dockspace/imagenet_candidate_training/data/candidate/n02883205/93863c40436cea363ee33942b56eacb70a6ddd00.jpg\n",
      "DONE\n",
      "[INFO]: Deleting corrupt image at /root/dockspace/imagenet_candidate_training/data/candidate/n01855672/32adb167f853442d5bdf06b694d6aa8531d10b72.png\n",
      "DONE\n",
      "[INFO]: Deleting corrupt image at /root/dockspace/imagenet_candidate_training/data/candidate/n02808440/6dfc01d57cb056ac46d29a7c0f95b973dab15469.jpg\n",
      "DONE\n",
      "[INFO]: Deleting corrupt image at /root/dockspace/imagenet_candidate_training/data/candidate/n02769748/7a97ea520153c4e973ef8e4414d766f1cb0137ea.png\n",
      "DONE\n",
      "[INFO]: Deleting corrupt image at /root/dockspace/imagenet_candidate_training/data/candidate/n02769748/fba12c8768b769afea77e0d3d8a311c4b071573e.png\n",
      "DONE\n",
      "[INFO]: Deleting corrupt image at /root/dockspace/imagenet_candidate_training/data/candidate/n02948072/ab0be7a77c7c5505e246d19326303967309b435c.png\n",
      "DONE\n",
      "[INFO]: Deleting corrupt image at /root/dockspace/imagenet_candidate_training/data/candidate/n03617480/900de061b22616b97be30e68627e844898019e13.jpg\n",
      "DONE\n",
      "[INFO]: Deleting corrupt image at /root/dockspace/imagenet_candidate_training/data/candidate/n02795169/6cf01c6e4af2c24a30bc26b050e256132ad71228.jpg\n",
      "DONE\n",
      "[INFO]: Deleting corrupt image at /root/dockspace/imagenet_candidate_training/data/candidate/n02795169/59ae2cf50a689296e3ae07cbeb93098806c8f3d2.jpg\n",
      "DONE\n",
      "[INFO]: Deleting corrupt image at /root/dockspace/imagenet_candidate_training/data/candidate/n03544143/53ff38be9c022b4465ad086c5921ba651cb431ec.png\n",
      "DONE\n",
      "[INFO]: Deleting corrupt image at /root/dockspace/imagenet_candidate_training/data/candidate/n03179701/c9109eee5debdecbff4ad054f9f93a04b9035fa0.jpg\n",
      "DONE\n",
      "[INFO]: Deleting corrupt image at /root/dockspace/imagenet_candidate_training/data/candidate/n04562935/5d4b5ac52cac25a33172a22f59800f13b3dd76fd.jpg\n",
      "DONE\n",
      "[INFO]: Deleting corrupt image at /root/dockspace/imagenet_candidate_training/data/candidate/n04562935/00ef2c94816e066e359e9bfd2d60600ae4f90b6e.jpg\n",
      "DONE\n",
      "[INFO]: Deleting corrupt image at /root/dockspace/imagenet_candidate_training/data/candidate/n02085620/940a9e01cf3339348edde42459eb131cb1130de9.jpg\n",
      "DONE\n",
      "[INFO]: Deleting corrupt image at /root/dockspace/imagenet_candidate_training/data/candidate/n04507155/3493d5090bb3a4f50d6a7bcb26d8080324a2866f.jpg\n",
      "DONE\n",
      "[INFO]: Deleting corrupt image at /root/dockspace/imagenet_candidate_training/data/candidate/n09246464/d268aa7a4ef667826e01edce1ee59d8d70a4123b.jpg\n",
      "DONE\n",
      "[INFO]: Deleting corrupt image at /root/dockspace/imagenet_candidate_training/data/candidate/n09246464/690dcebf082f5966493da3dac5c28283c34f5b76.jpg\n",
      "DONE\n",
      "[INFO]: Deleting corrupt image at /root/dockspace/imagenet_candidate_training/data/candidate/n09246464/a1bffb278736e234076aec2acddd06212a14489b.png\n",
      "DONE\n"
     ]
    }
   ],
   "source": [
    "for crpt_fn in corrupt_files:\n",
    "    print('[INFO]: Deleting corrupt image at {}'.format(crpt_fn))\n",
    "    os.remove(crpt_fn)\n",
    "    print('DONE')"
   ]
  },
  {
   "cell_type": "code",
   "execution_count": 23,
   "metadata": {},
   "outputs": [],
   "source": [
    "im_file = ('/root/dockspace/imagenet_candidate_training/data/candidate/' + \n",
    "           'n03770439/8c8440baa3a8303485ce16f4a2935afbf9004abe.png')"
   ]
  },
  {
   "cell_type": "code",
   "execution_count": 24,
   "metadata": {},
   "outputs": [],
   "source": [
    "img = plt.imread(im_file)\n",
    "# img_pil = Image.fromarray(img)"
   ]
  },
  {
   "cell_type": "code",
   "execution_count": 25,
   "metadata": {},
   "outputs": [
    {
     "data": {
      "text/plain": [
       "<matplotlib.image.AxesImage at 0x7f3f0fabc9b0>"
      ]
     },
     "execution_count": 25,
     "metadata": {},
     "output_type": "execute_result"
    },
    {
     "data": {
      "image/png": "[encoded data removed]",
      "text/plain": [
       "<Figure size 432x288 with 1 Axes>"
      ]
     },
     "metadata": {
      "needs_background": "light"
     },
     "output_type": "display_data"
    }
   ],
   "source": [
    "plt.imshow(img)"
   ]
  },
  {
   "cell_type": "code",
   "execution_count": 56,
   "metadata": {},
   "outputs": [],
   "source": [
    "img = Image.open(im_file)\n",
    "abc =np.asarray(img)"
   ]
  },
  {
   "cell_type": "code",
   "execution_count": 52,
   "metadata": {},
   "outputs": [],
   "source": [
    "with open(im_file, 'rb') as fn:\n",
    "    img = Image.open(fn)"
   ]
  },
  {
   "cell_type": "code",
   "execution_count": 41,
   "metadata": {},
   "outputs": [
    {
     "ename": "ValueError",
     "evalue": "seek of closed file",
     "output_type": "error",
     "traceback": [
      "\u001b[0;31m---------------------------------------------------------------------------\u001b[0m",
      "\u001b[0;31mValueError\u001b[0m                                Traceback (most recent call last)",
      "\u001b[0;32m/opt/conda/lib/python3.6/site-packages/IPython/core/formatters.py\u001b[0m in \u001b[0;36m__call__\u001b[0;34m(self, obj)\u001b[0m\n\u001b[1;32m    343\u001b[0m             \u001b[0mmethod\u001b[0m \u001b[0;34m=\u001b[0m \u001b[0mget_real_method\u001b[0m\u001b[0;34m(\u001b[0m\u001b[0mobj\u001b[0m\u001b[0;34m,\u001b[0m \u001b[0mself\u001b[0m\u001b[0;34m.\u001b[0m\u001b[0mprint_method\u001b[0m\u001b[0;34m)\u001b[0m\u001b[0;34m\u001b[0m\u001b[0;34m\u001b[0m\u001b[0m\n\u001b[1;32m    344\u001b[0m             \u001b[0;32mif\u001b[0m \u001b[0mmethod\u001b[0m \u001b[0;32mis\u001b[0m \u001b[0;32mnot\u001b[0m \u001b[0;32mNone\u001b[0m\u001b[0;34m:\u001b[0m\u001b[0;34m\u001b[0m\u001b[0;34m\u001b[0m\u001b[0m\n\u001b[0;32m--> 345\u001b[0;31m                 \u001b[0;32mreturn\u001b[0m \u001b[0mmethod\u001b[0m\u001b[0;34m(\u001b[0m\u001b[0;34m)\u001b[0m\u001b[0;34m\u001b[0m\u001b[0;34m\u001b[0m\u001b[0m\n\u001b[0m\u001b[1;32m    346\u001b[0m             \u001b[0;32mreturn\u001b[0m \u001b[0;32mNone\u001b[0m\u001b[0;34m\u001b[0m\u001b[0;34m\u001b[0m\u001b[0m\n\u001b[1;32m    347\u001b[0m         \u001b[0;32melse\u001b[0m\u001b[0;34m:\u001b[0m\u001b[0;34m\u001b[0m\u001b[0;34m\u001b[0m\u001b[0m\n",
      "\u001b[0;32m/opt/conda/lib/python3.6/site-packages/PIL/Image.py\u001b[0m in \u001b[0;36m_repr_png_\u001b[0;34m(self)\u001b[0m\n\u001b[1;32m    670\u001b[0m         \u001b[0;32mfrom\u001b[0m \u001b[0mio\u001b[0m \u001b[0;32mimport\u001b[0m \u001b[0mBytesIO\u001b[0m\u001b[0;34m\u001b[0m\u001b[0;34m\u001b[0m\u001b[0m\n\u001b[1;32m    671\u001b[0m         \u001b[0mb\u001b[0m \u001b[0;34m=\u001b[0m \u001b[0mBytesIO\u001b[0m\u001b[0;34m(\u001b[0m\u001b[0;34m)\u001b[0m\u001b[0;34m\u001b[0m\u001b[0;34m\u001b[0m\u001b[0m\n\u001b[0;32m--> 672\u001b[0;31m         \u001b[0mself\u001b[0m\u001b[0;34m.\u001b[0m\u001b[0msave\u001b[0m\u001b[0;34m(\u001b[0m\u001b[0mb\u001b[0m\u001b[0;34m,\u001b[0m \u001b[0;34m'PNG'\u001b[0m\u001b[0;34m)\u001b[0m\u001b[0;34m\u001b[0m\u001b[0;34m\u001b[0m\u001b[0m\n\u001b[0m\u001b[1;32m    673\u001b[0m         \u001b[0;32mreturn\u001b[0m \u001b[0mb\u001b[0m\u001b[0;34m.\u001b[0m\u001b[0mgetvalue\u001b[0m\u001b[0;34m(\u001b[0m\u001b[0;34m)\u001b[0m\u001b[0;34m\u001b[0m\u001b[0;34m\u001b[0m\u001b[0m\n\u001b[1;32m    674\u001b[0m \u001b[0;34m\u001b[0m\u001b[0m\n",
      "\u001b[0;32m/opt/conda/lib/python3.6/site-packages/PIL/Image.py\u001b[0m in \u001b[0;36msave\u001b[0;34m(self, fp, format, **params)\u001b[0m\n\u001b[1;32m   1933\u001b[0m \u001b[0;34m\u001b[0m\u001b[0m\n\u001b[1;32m   1934\u001b[0m         \u001b[0;31m# may mutate self!\u001b[0m\u001b[0;34m\u001b[0m\u001b[0;34m\u001b[0m\u001b[0;34m\u001b[0m\u001b[0m\n\u001b[0;32m-> 1935\u001b[0;31m         \u001b[0mself\u001b[0m\u001b[0;34m.\u001b[0m\u001b[0mload\u001b[0m\u001b[0;34m(\u001b[0m\u001b[0;34m)\u001b[0m\u001b[0;34m\u001b[0m\u001b[0;34m\u001b[0m\u001b[0m\n\u001b[0m\u001b[1;32m   1936\u001b[0m \u001b[0;34m\u001b[0m\u001b[0m\n\u001b[1;32m   1937\u001b[0m         \u001b[0msave_all\u001b[0m \u001b[0;34m=\u001b[0m \u001b[0mparams\u001b[0m\u001b[0;34m.\u001b[0m\u001b[0mpop\u001b[0m\u001b[0;34m(\u001b[0m\u001b[0;34m'save_all'\u001b[0m\u001b[0;34m,\u001b[0m \u001b[0;32mFalse\u001b[0m\u001b[0;34m)\u001b[0m\u001b[0;34m\u001b[0m\u001b[0;34m\u001b[0m\u001b[0m\n",
      "\u001b[0;32m/opt/conda/lib/python3.6/site-packages/PIL/ImageFile.py\u001b[0m in \u001b[0;36mload\u001b[0;34m(self)\u001b[0m\n\u001b[1;32m    210\u001b[0m                                             args, self.decoderconfig)\n\u001b[1;32m    211\u001b[0m                 \u001b[0;32mtry\u001b[0m\u001b[0;34m:\u001b[0m\u001b[0;34m\u001b[0m\u001b[0;34m\u001b[0m\u001b[0m\n\u001b[0;32m--> 212\u001b[0;31m                     \u001b[0mseek\u001b[0m\u001b[0;34m(\u001b[0m\u001b[0moffset\u001b[0m\u001b[0;34m)\u001b[0m\u001b[0;34m\u001b[0m\u001b[0;34m\u001b[0m\u001b[0m\n\u001b[0m\u001b[1;32m    213\u001b[0m                     \u001b[0mdecoder\u001b[0m\u001b[0;34m.\u001b[0m\u001b[0msetimage\u001b[0m\u001b[0;34m(\u001b[0m\u001b[0mself\u001b[0m\u001b[0;34m.\u001b[0m\u001b[0mim\u001b[0m\u001b[0;34m,\u001b[0m \u001b[0mextents\u001b[0m\u001b[0;34m)\u001b[0m\u001b[0;34m\u001b[0m\u001b[0;34m\u001b[0m\u001b[0m\n\u001b[1;32m    214\u001b[0m                     \u001b[0;32mif\u001b[0m \u001b[0mdecoder\u001b[0m\u001b[0;34m.\u001b[0m\u001b[0mpulls_fd\u001b[0m\u001b[0;34m:\u001b[0m\u001b[0;34m\u001b[0m\u001b[0;34m\u001b[0m\u001b[0m\n",
      "\u001b[0;31mValueError\u001b[0m: seek of closed file"
     ]
    },
    {
     "data": {
      "text/plain": [
       "<PIL.JpegImagePlugin.JpegImageFile image mode=RGB size=256x256 at 0x7F641EE79550>"
      ]
     },
     "execution_count": 41,
     "metadata": {},
     "output_type": "execute_result"
    }
   ],
   "source": [
    "img"
   ]
  },
  {
   "cell_type": "markdown",
   "metadata": {},
   "source": [
    "### Merge subdirectories under classes"
   ]
  },
  {
   "cell_type": "code",
   "execution_count": 1,
   "metadata": {},
   "outputs": [],
   "source": [
    "import pathlib\n",
    "import os"
   ]
  },
  {
   "cell_type": "code",
   "execution_count": 92,
   "metadata": {},
   "outputs": [],
   "source": [
    "cls_dir = pathlib.Path.cwd() / 'data/candidate_mess/'\n",
    "new_dir = pathlib.Path.cwd() / 'data/candidate/'\n",
    "\n",
    "for cur_dir in cls_dir.iterdir():\n",
    "    cur_wnid = cur_dir.name + '/'\n",
    "    target_dir = new_dir / cur_wnid\n",
    "    target_dir.mkdir()\n",
    "    \n",
    "    for root, _, files in os.walk(str(cur_dir.resolve())):\n",
    "        for cur_file in files:\n",
    "            cur_path = pathlib.Path(root) / cur_file\n",
    "            target_path = target_dir / cur_file\n",
    "            cur_path.rename(target_path)"
   ]
  },
  {
   "cell_type": "code",
   "execution_count": 130,
   "metadata": {},
   "outputs": [
    {
     "data": {
      "text/plain": [
       "['c998958b7cf769593f55cd74f8b4eb69c374c98e.jpg',\n",
       " 'a20f61f78cc64336b0465fc097c969ce6fc3a9c0.png',\n",
       " '74186d7507767b636ed001bb7cbbd46c22605920.jpg',\n",
       " 'ca956fedef307d84a073273a42127e772b4a4e94.jpg',\n",
       " '50ddd81dbdf732f233661e210a5857bf8f6e6216.jpg',\n",
       " '6de53583a4bdf52c37d4c0f0cf1ffb7e264b468f.jpg',\n",
       " '2a4c5484561b1f7d292fcd455bbb071169e18533.jpg',\n",
       " 'a36ef6caf03e6bda1540f7e89e28bb8e1ab7e591.jpg',\n",
       " 'c0d93559b30bdd01dde97cdbe24578b91ae5cf7f.jpg',\n",
       " 'd75f3c62fb191f93c00183cead159e7c6311c1d1.jpg',\n",
       " 'de16a4d35b60b0e9270acdc7a3be73f21364e6ee.jpg',\n",
       " '4ed9ef6225d8fa76559b88c4f6be42fc4cc1444c.jpg',\n",
       " 'f17941e500e2f0710a1a1d2379487ffa484d474a.jpg',\n",
       " 'fe47e6231ab35e434a1591fe2507fe39061ca128.jpg',\n",
       " '8791c5bf41e24890bdb27897b5a1486534e13245.jpg',\n",
       " '093acbc68add78a22b80f4f5b535d17d765d8a5f.jpg',\n",
       " '8973bd13d450f5d848541036ff128389938bb114.jpg',\n",
       " '8d7f792539ffc67541c9628c14929af1c758781b.jpg',\n",
       " 'a85b54202a8f92ce5d334e7c9229836cf32d5977.jpg',\n",
       " '33d8a3734bb0b34e48d076783f31d4ad162f81fe.jpg',\n",
       " '9a153b5f99fced7c2fb0e489dd84ae66811a8a09.jpg',\n",
       " '7968fccfd169911f75af7e8ed1193b0a4a6c5a9b.jpg',\n",
       " 'ccdb59ff0b275627b903c8373786fcb5b6bb44c4.jpg',\n",
       " '9eaf1b7efe90a7b0825979eab258b393524a059e.jpg',\n",
       " 'a8296b770a6983710ba0b35fd8567acf07ab31b8.jpg',\n",
       " 'fe6df46386ef673b5bb91e30dad4a765469ada64.jpg',\n",
       " '9af1cf868924d3be56da03e6ca3f50e9cf09fdb3.jpg',\n",
       " '004523db8a71fa258fc64b6ff92f382034276574.jpg',\n",
       " 'fabb0ef5f2ceb8e6775372b8b7b83ddb79ebe59b.jpg',\n",
       " '6e6f8e26470f0c26f805bef1f0b6a89d17c90863.jpg',\n",
       " '39f02a5cc2f3b90ba4276f494371f96d942c58d4.jpg',\n",
       " 'bb30ea3a6a814c9e7a6a664f87cd7aaf2269a05f.jpg',\n",
       " 'ef01c75a027b6b306c0ee3ea8ea8e3eefda591c6.jpg',\n",
       " '67c44e37572ee0df4dfce1475910a730406a5358.jpg',\n",
       " 'c4a2ad379624acdb7492be4df67a6cc231dbc4db.jpg',\n",
       " '3cf409dac145e6423c658a2157e9263daf108425.jpg',\n",
       " '3cdc6bcc414a2921e558a3d3d7c7f0ccc75de2fa.jpg',\n",
       " '72ebe5c8a3b1a2ea8d25d9cc36e1dc10f96196bb.jpg',\n",
       " 'beb465dbec732afea0fb24afbdd8f80729c08174.jpg',\n",
       " '874b071fb66a48ce3b39cc206d650e1bc79c7e0d.jpg',\n",
       " 'd3368352ce9434b6144c64c8f0c8b3cf29cf6a5d.jpg',\n",
       " '06e3dd88e61b2c3f6eafefa20dc083565f60a7cb.jpg',\n",
       " 'd2580da5d09839607607b6b0ff7d3e4d6ef259bd.jpg',\n",
       " '7ac4633380829e85f269ffd2828543bef9fead58.jpg',\n",
       " '31af2b44c3878143a0036601f49ddd039fbf715d.jpg',\n",
       " '71ab43abf7017ba100b1b969350018b132858a69.jpg',\n",
       " '85e4327df20e98eaa40b570910debf8ac510cff0.jpg',\n",
       " 'ba5700851d59d9fd1e440f261cb338b5f6b5dd9c.jpg',\n",
       " 'df0ec8974235b8a759115928fe7e0609f0360e20.jpg',\n",
       " 'c2c59aac4ca27819c8845d718f1a5694e0366795.jpg',\n",
       " 'a5ec35d994cacd8f71bd1fdda166033da6a0b150.jpg',\n",
       " 'df25a0a12039c491dfcf1c1dff225b0724710447.jpg',\n",
       " '33f7f022428594b34e521a78f491b4704db6458f.jpg',\n",
       " 'db3cce693c631c8e905e3ddd990056f05306df67.jpg',\n",
       " '77782a9a8bc9111f6bfe294605a74bbb6e963e76.jpg',\n",
       " '368768acd72be3bea2dfcc09df094e02909c9cb4.jpg',\n",
       " 'f07c6daea515563332eb27041465e311c46e5e65.jpg',\n",
       " 'fd84852a64b4f020f48ea199ce98d27b9a51e40e.jpg',\n",
       " '0efc1b63ff34a882adc5c1ac25896950a10e033f.jpg',\n",
       " '740bc6774907e1531f059dc8abc64388abcca8b0.jpg',\n",
       " '2bd70f201c96e8b3c11aa4c22890ee68f171bc10.jpg',\n",
       " 'ca8ab1071f6504a5c417bdc97a957aa62453be16.jpg',\n",
       " 'f0bda83a47f0e2ab9d004f00150c989ab17ca2eb.jpg',\n",
       " 'b515cb5977efe3c8482f5e5a491f75063d7ee248.jpg',\n",
       " 'df030fb758db58424760df4338941fe6727dd503.jpg',\n",
       " '6f76a16b02f5dacdb21392371e09b128a1b94203.jpg',\n",
       " '500c56348bc7aff5cefafbcaadb7eb1ecd4d77c3.jpg',\n",
       " '0ab93e795d87e647ea58baaef71c89ecdc3fdb74.jpg',\n",
       " '3948b60578f6651f1b73e289d091ed62b2deca8d.jpg',\n",
       " '88c9ea33f7f90ca0e08085c15a6ca1331e4804f0.jpg',\n",
       " '76017cb30708e0eeaf92da82f9348cab14491e7b.jpg',\n",
       " '53c9d3cf1ae642f38761764cac4a53829d66730d.jpg',\n",
       " '32278afd18b5ad64ec009ad5821252d41a1b4b8a.jpg',\n",
       " '53e868a8355640a788347e2c58341192e093189c.jpg',\n",
       " '1d7aa62f268b8e8d6bf3d58f62c61f5482b9f66f.jpg',\n",
       " '30e6cf2e2ab59965ff43dc089e4b8d554f372053.jpg',\n",
       " '93694b8b97ddce60ee956b6cae342a783c57d52b.jpg',\n",
       " 'ab3543b83526ba69278295e26c949f6d8518bbf3.jpg',\n",
       " '879f07722a14ffc5817402a8247a7b4a8adad25c.jpg',\n",
       " '3176816938507ed08647cf5a0638b500a67680d6.jpg',\n",
       " '1f1c7e824577bbbea5188db63c1c4e4e138d75a9.jpg',\n",
       " 'e8c5e47f5adfbd8c61205785cc363d85c12981ee.jpg',\n",
       " 'fa04e544ca01d9a3d9a8d6c861cb354d00d467f7.jpg',\n",
       " '2794921b76e4ceccbb21d8056d0d9646f5dc088a.jpg',\n",
       " '1fc033e7807276cdc5d30d93fc4cebd2a45ab2cf.jpg',\n",
       " 'f5ff282db51e5d9c64db5209846446bf5d416cab.jpg',\n",
       " 'ae584a803524e3cff5ee0759f67a85401cfd5d78.jpg',\n",
       " 'fb02ede30e4756624671b57223f0e0a520b76667.jpg',\n",
       " '14d33dd569b966f11e066eea3fa40a8cbf461666.jpg',\n",
       " 'e66cbaffd0df114db18d01880cab14991f69c78d.jpg',\n",
       " '6317e511bca1e08bbcaa095b38a652089a9f2bdc.jpg',\n",
       " '8f03ee2274f91c02b409e9ce027557a148546d8e.jpg',\n",
       " '52d3820a105ebe2f430636344768d6fa684298f7.jpg',\n",
       " 'bde27bf7938d2d89d11ab7ab85cf7eb2af896d95.jpg',\n",
       " 'be902f88a26e1060ded6f6df877f082c5b921f79.jpg',\n",
       " '06175770ede9b30ee611c594c52bd738dcd18592.jpg',\n",
       " '8143ac19aa305e9146a316c550035552ad67d94e.jpg',\n",
       " '1591a93ecbd9577be3842a8e85ced797eb9e0d79.jpg',\n",
       " '00d82b2c4f98eae5801f784db01d0a9864182cce.jpg',\n",
       " '702b012cf99cc9f41b269a35b88f07601d475b87.jpg']"
      ]
     },
     "execution_count": 130,
     "metadata": {},
     "output_type": "execute_result"
    }
   ],
   "source": [
    "os.listdir('/root/dockspace/imagenet_candidate_training/data/candidate/n02165456')[:100]"
   ]
  },
  {
   "cell_type": "code",
   "execution_count": 131,
   "metadata": {},
   "outputs": [
    {
     "data": {
      "text/plain": [
       "['n02165456',\n",
       " 'n02165105',\n",
       " 'n01770081',\n",
       " 'n01944390',\n",
       " 'n01768244',\n",
       " 'n01980166',\n",
       " 'n01950731',\n",
       " 'n02177972',\n",
       " 'n01775062',\n",
       " 'n02268443',\n",
       " 'n02233338',\n",
       " 'n02206856',\n",
       " 'n01774750',\n",
       " 'n01784675',\n",
       " 'n02256656']"
      ]
     },
     "execution_count": 131,
     "metadata": {},
     "output_type": "execute_result"
    }
   ],
   "source": [
    "\n",
    "os.listdir('/root/dockspace/imagenet_candidate_training/data/test/')"
   ]
  },
  {
   "cell_type": "code",
   "execution_count": 134,
   "metadata": {},
   "outputs": [
    {
     "data": {
      "text/plain": [
       "['n02165456',\n",
       " 'n02165105',\n",
       " 'n01770081',\n",
       " 'n01944390',\n",
       " 'n01768244',\n",
       " 'n01980166',\n",
       " 'n01950731',\n",
       " 'n02177972',\n",
       " 'n01775062',\n",
       " 'n02268443',\n",
       " 'n02233338',\n",
       " 'n02206856',\n",
       " 'n01774750',\n",
       " 'n01784675',\n",
       " 'n02256656']"
      ]
     },
     "execution_count": 134,
     "metadata": {},
     "output_type": "execute_result"
    }
   ],
   "source": [
    "os.listdir('/root/dockspace/imagenet_candidate_training/data/candidate/')"
   ]
  },
  {
   "cell_type": "markdown",
   "metadata": {},
   "source": [
    "## Change the classes according to min number of images"
   ]
  },
  {
   "cell_type": "code",
   "execution_count": 2,
   "metadata": {},
   "outputs": [],
   "source": [
    "# Define the directories\n",
    "json_dir = pathlib.Path('/root/dockspace/search_download_images/flickr/')\n",
    "down_dir = pathlib.Path('/root/dockspace/search_download_images/data/downloads/')\n",
    "cand_dir = pathlib.Path.cwd() / 'data/candidate/'\n",
    "train_dir = pathlib.Path.cwd() / 'data/train/'\n",
    "test_dir = pathlib.Path.cwd() / 'data/test/'\n",
    "\n",
    "other_cand_dir = pathlib.Path.cwd() / 'data/candidate_other/'\n",
    "other_train_dir = pathlib.Path.cwd() / 'data/train_other/'\n",
    "other_test_dir = pathlib.Path.cwd() / 'data/test_other/'\n",
    "\n",
    "imgnet_train_dir = pathlib.Path('/root/dockspace/imagenet_candidate_training/data/ILSVRC/Data/CLS-LOC/train')\n",
    "imgnet_val_dir = pathlib.Path('/root/dockspace/imagenet_candidate_training/data/ILSVRC/Data/CLS-LOC/val')"
   ]
  },
  {
   "cell_type": "markdown",
   "metadata": {},
   "source": [
    "#### Compute the number of images per class and move the non-used classes into other folders"
   ]
  },
  {
   "cell_type": "code",
   "execution_count": 3,
   "metadata": {},
   "outputs": [],
   "source": [
    "# INFO: This step should only select classes and move the rest to _other folders\n",
    "min_allowed_imgs = 3000\n",
    "\n",
    "selected_cls = [cur_dir.name for cur_dir in other_cand_dir.iterdir() \n",
    "                if len(list(cur_dir.iterdir())) >= min_allowed_imgs]"
   ]
  },
  {
   "cell_type": "code",
   "execution_count": 3,
   "metadata": {},
   "outputs": [],
   "source": [
    "# INFO: Uncomment this part only if you have the selected classes in a file\n",
    "selected_cls_file = pathlib.Path.cwd() / 'top100_wnid_on_acc_diff.json'\n",
    "\n",
    "with open(selected_cls_file) as fn:\n",
    "    selected_cls = json.load(fn)"
   ]
  },
  {
   "cell_type": "code",
   "execution_count": 4,
   "metadata": {},
   "outputs": [
    {
     "data": {
      "text/plain": [
       "35"
      ]
     },
     "execution_count": 4,
     "metadata": {},
     "output_type": "execute_result"
    }
   ],
   "source": [
    "len(selected_cls)"
   ]
  },
  {
   "cell_type": "markdown",
   "metadata": {},
   "source": [
    "#### Check there are no collisions between candidate directories"
   ]
  },
  {
   "cell_type": "code",
   "execution_count": 6,
   "metadata": {},
   "outputs": [],
   "source": [
    "other_cls = [cur_dir.name for cur_dir in other_cand_dir.iterdir()]"
   ]
  },
  {
   "cell_type": "code",
   "execution_count": 7,
   "metadata": {},
   "outputs": [],
   "source": [
    "for cur_wnid in other_cls:\n",
    "    cur_dir = cand_dir / cur_wnid\n",
    "    if cur_dir.exists():\n",
    "        if not len(list(cur_dir.iterdir())):\n",
    "            cur_dir.rmdir()\n",
    "            print('[INFO]: Removed empty directory {}'.format(cur_dir))"
   ]
  },
  {
   "cell_type": "markdown",
   "metadata": {},
   "source": [
    "#### Move the unused classes to other directories"
   ]
  },
  {
   "cell_type": "code",
   "execution_count": 9,
   "metadata": {},
   "outputs": [],
   "source": [
    "for cur_dir in cand_dir.iterdir():\n",
    "    if not cur_dir.name in selected_cls:\n",
    "        cur_dir.rename(other_cand_dir / cur_dir.name)"
   ]
  },
  {
   "cell_type": "code",
   "execution_count": 10,
   "metadata": {},
   "outputs": [],
   "source": [
    "for cur_dir in train_dir.iterdir():\n",
    "    if not cur_dir.name in selected_cls:\n",
    "        cur_dir.rename(other_train_dir / cur_dir.name)"
   ]
  },
  {
   "cell_type": "code",
   "execution_count": 8,
   "metadata": {},
   "outputs": [],
   "source": [
    "for cur_dir in test_dir.iterdir():\n",
    "    if not cur_dir.name in selected_cls:\n",
    "        cur_dir.rename(other_test_dir / cur_dir.name)"
   ]
  },
  {
   "cell_type": "markdown",
   "metadata": {},
   "source": [
    "#### Move the training and test classes corresponding to candidates back into train and test directories"
   ]
  },
  {
   "cell_type": "code",
   "execution_count": 18,
   "metadata": {},
   "outputs": [],
   "source": [
    "for cur_dir in other_train_dir.iterdir():\n",
    "    if cur_dir.name in selected_cls:\n",
    "        cur_dir.rename(train_dir / cur_dir.name)"
   ]
  },
  {
   "cell_type": "code",
   "execution_count": 19,
   "metadata": {},
   "outputs": [],
   "source": [
    "for cur_dir in other_test_dir.iterdir():\n",
    "    if cur_dir.name in selected_cls:\n",
    "        cur_dir.rename(test_dir / cur_dir.name)"
   ]
  },
  {
   "cell_type": "markdown",
   "metadata": {},
   "source": [
    "#### Merge subdirectories under classes"
   ]
  },
  {
   "cell_type": "code",
   "execution_count": 4,
   "metadata": {},
   "outputs": [],
   "source": [
    "from tqdm import tqdm"
   ]
  },
  {
   "cell_type": "code",
   "execution_count": 6,
   "metadata": {},
   "outputs": [
    {
     "name": "stderr",
     "output_type": "stream",
     "text": [
      "223it [01:23,  1.67it/s]\n"
     ]
    }
   ],
   "source": [
    "for cur_dir in tqdm(down_dir.iterdir()):\n",
    "    cur_wnid = cur_dir.name\n",
    "    target_dir = cand_dir / cur_wnid\n",
    "    target_dir.mkdir(exist_ok=True)\n",
    "    \n",
    "    for root, _, files in os.walk(str(cur_dir.resolve())):\n",
    "        for cur_file in files:\n",
    "            cur_path = pathlib.Path(root) / cur_file\n",
    "            target_path = target_dir / cur_file\n",
    "            cur_path.rename(target_path)"
   ]
  },
  {
   "cell_type": "markdown",
   "metadata": {},
   "source": [
    "#### Copy other test classes into test_copy directory"
   ]
  },
  {
   "cell_type": "code",
   "execution_count": 5,
   "metadata": {},
   "outputs": [],
   "source": [
    "copy_test_dir = pathlib.Path.cwd() / 'data/test_copy/'"
   ]
  },
  {
   "cell_type": "code",
   "execution_count": 10,
   "metadata": {},
   "outputs": [],
   "source": [
    "for cur_dir in other_test_dir.iterdir():\n",
    "    if cur_dir.name in selected_cls:\n",
    "#         print('[{}]'.format(cnt) + str(cur_dir) + '\\n' + str(copy_test_dir / cur_dir.name) + '\\n\\n')\n",
    "        shutil.copytree(str(cur_dir), str(copy_test_dir / cur_dir.name))"
   ]
  },
  {
   "cell_type": "markdown",
   "metadata": {},
   "source": [
    "#### Transfer all training classes under train directory"
   ]
  },
  {
   "cell_type": "markdown",
   "metadata": {},
   "source": [
    "```\n",
    "for cur_train_cls in imgnet_train_dir.glob('*'):\n",
    "    cur_wnid = cur_train_cls.name\n",
    "    cur_dir = train_dir / cur_wnid\n",
    "    cur_dir.mkdir()\n",
    "    \n",
    "    cur_train_cls.rename(cur_dir)```"
   ]
  },
  {
   "cell_type": "markdown",
   "metadata": {},
   "source": [
    "#### Transfer all validation images under test directory"
   ]
  },
  {
   "cell_type": "markdown",
   "metadata": {},
   "source": [
    "```\n",
    "with open('val_labels.txt', 'r') as fn:\n",
    "    val_labels = fn.readlines()\n",
    "    \n",
    "val_dict = {}\n",
    "    \n",
    "for cur_line in val_labels:\n",
    "    _, cur_img, cur_wnid = cur_line.strip().strip('/').split(' ')\n",
    "    \n",
    "    if not cur_wnid in val_dict:\n",
    "        val_dict[cur_wnid] = []\n",
    "        \n",
    "    val_dict[cur_wnid].append(cur_img)\n",
    "```"
   ]
  },
  {
   "cell_type": "markdown",
   "metadata": {},
   "source": [
    "```\n",
    "for cur_wnid, cur_im_list in val_dict.items():\n",
    "    if not cur_wnid in chosen_wnids:\n",
    "        cur_dir = test_dir / cur_wnid\n",
    "        cur_dir.mkdir()\n",
    "\n",
    "        for cur_img in cur_im_list:\n",
    "            cur_file = imgnet_val_dir / cur_img\n",
    "            new_file = cur_dir / cur_img\n",
    "            cur_file.rename(new_file)\n",
    "```"
   ]
  },
  {
   "cell_type": "code",
   "execution_count": null,
   "metadata": {},
   "outputs": [],
   "source": []
  }
 ],
 "metadata": {
  "kernelspec": {
   "display_name": "Python 3",
   "language": "python",
   "name": "python3"
  },
  "language_info": {
   "codemirror_mode": {
    "name": "ipython",
    "version": 3
   },
   "file_extension": ".py",
   "mimetype": "text/x-python",
   "name": "python",
   "nbconvert_exporter": "python",
   "pygments_lexer": "ipython3",
   "version": "3.6.7"
  }
 },
 "nbformat": 4,
 "nbformat_minor": 2
}
