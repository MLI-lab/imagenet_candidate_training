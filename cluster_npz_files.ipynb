{
 "cells": [
  {
   "cell_type": "code",
   "execution_count": null,
   "metadata": {},
   "outputs": [],
   "source": [
    "import numpy as np\n",
    "import pathlib\n",
    "import json\n",
    "from tqdm import tqdm\n",
    "from PIL import Image"
   ]
  },
  {
   "cell_type": "code",
   "execution_count": null,
   "metadata": {},
   "outputs": [],
   "source": [
    "cls_dir = pathlib.Path('/root/dockspace/search_download_images/data/downloads/')\n",
    "json_dir = pathlib.Path('/root/dockspace/search_download_images/flickr/')\n",
    "out_dir = pathlib.Path('/root/dockspace/imagenet_candidate_training/data/candididate/')\n",
    "\n",
    "with open(json_dir / 'chosen_wnids.json') as fn:\n",
    "    chosen_wnids = json.load(fn)"
   ]
  },
  {
   "cell_type": "code",
   "execution_count": null,
   "metadata": {},
   "outputs": [],
   "source": [
    "chosen_dict = {cur_wnid:i for i, cur_wnid in enumerate(chosen_wnids)}"
   ]
  },
  {
   "cell_type": "code",
   "execution_count": null,
   "metadata": {},
   "outputs": [],
   "source": [
    "npz_list = []\n",
    "\n",
    "for cur_wnid in chosen_wnids:\n",
    "    wnid_path = cls_dir / cur_wnid\n",
    "    npz_list += [npz_file for npz_file in wnid_path.glob('**/*.npz')]\n",
    "    \n",
    "    \n",
    "npz_size_list = []\n",
    "\n",
    "for npz_file in tqdm(npz_list):\n",
    "    im_shape = np.load(npz_file)['X_train'].shape\n",
    "    \n",
    "    assert im_shape[1:] == (256, 256, 3), \"shape {} is not supported\".format(im_shape)\n",
    "    \n",
    "    npz_size_list.append(im_shape[0])\n",
    "    \n",
    "    "
   ]
  },
  {
   "cell_type": "code",
   "execution_count": null,
   "metadata": {},
   "outputs": [],
   "source": [
    "idx_dict = {k:0 for k in chosen_dict.keys()}"
   ]
  },
  {
   "cell_type": "code",
   "execution_count": null,
   "metadata": {},
   "outputs": [],
   "source": [
    "for npz_file in tqdm(npz_list):\n",
    "    cur_wnid = str(npz_file).split('downloads/')[-1].split('/')[0]\n",
    "    cur_path = out_dir / cur_wnid\n",
    "    cur_path.mkdir(parents=True, exist_ok=True)\n",
    "    \n",
    "    data = np.load(npz_file)['X_train']\n",
    "    \n",
    "    for cur_img in data:\n",
    "        cur_filename = cur_path / (str(idx_dict[cur_wnid]).zfill(5) + '.jpg')\n",
    "        pil_image = Image.fromarray(cur_img)\n",
    "        pil_image.save(cur_filename, format='JPEG', quality=95)\n",
    "        \n",
    "        idx_dict[cur_wnid] += 1"
   ]
  },
  {
   "cell_type": "code",
   "execution_count": null,
   "metadata": {},
   "outputs": [],
   "source": []
  }
 ],
 "metadata": {
  "kernelspec": {
   "display_name": "Python 3",
   "language": "python",
   "name": "python3"
  },
  "language_info": {
   "codemirror_mode": {
    "name": "ipython",
    "version": 3
   },
   "file_extension": ".py",
   "mimetype": "text/x-python",
   "name": "python",
   "nbconvert_exporter": "python",
   "pygments_lexer": "ipython3",
   "version": "3.6.7"
  }
 },
 "nbformat": 4,
 "nbformat_minor": 2
}
