{
 "cells": [
  {
   "cell_type": "code",
   "execution_count": null,
   "metadata": {},
   "outputs": [],
   "source": [
    "%matplotlib inline\n",
    "import numpy as np\n",
    "import matplotlib\n",
    "import matplotlib.pyplot as plt\n",
    "# plt.style.use(['ggplot'])\n",
    "import pathlib\n",
    "\n",
    "import json"
   ]
  },
  {
   "cell_type": "markdown",
   "metadata": {},
   "source": [
    "### Confusion Matrix"
   ]
  },
  {
   "cell_type": "code",
   "execution_count": null,
   "metadata": {},
   "outputs": [],
   "source": [
    "num_test = 50          # number of test examples, don't change for ImageNet.\n",
    "\n",
    "# original\n",
    "npy_file = pathlib.Path.cwd() / 'results/resnet50/train/2020-02-01-00-02-47/confmat.npy'\n",
    "npy_file_flickr = pathlib.Path.cwd() / 'results/resnet50/candidate/2020-02-01-00-38-38/confmat.npy'\n",
    "\n",
    "# for standalone use as an example notebook. Adjust the directory information\n",
    "# npy_file = pathlib.Path.cwd() / 'confmat.npy'\n",
    "# npy_file_flickr = pathlib.Path.cwd() / 'confmat_flickr.npy'\n",
    "\n",
    "\n",
    "conf_mat = np.load(npy_file)\n",
    "conf_mat = np.stack([conf_mat[i,:] / num_test for i in range(conf_mat.shape[0])])\n",
    "conf_mat_diag = np.array([conf_mat[i][i] for i in range(conf_mat.shape[0])])\n",
    "conf_mat_low = np.argwhere(conf_mat_diag < 1.0)\n",
    "\n",
    "conf_mat_flickr = np.load(npy_file_flickr)\n",
    "conf_mat_flickr = np.stack([conf_mat_flickr[i,:] / num_test for i in range(conf_mat_flickr.shape[0])])\n",
    "conf_mat_diag_flickr = np.array([conf_mat_flickr[i][i] for i in range(conf_mat_flickr.shape[0])])\n",
    "conf_mat_low_flickr = np.argwhere(conf_mat_diag_flickr < 1.0)"
   ]
  },
  {
   "cell_type": "code",
   "execution_count": null,
   "metadata": {},
   "outputs": [],
   "source": [
    "# Uncomment a colormap to use in heatmaps\n",
    "cur_cmap = 'pink'\n",
    "# cur_cmap = 'Blues'\n",
    "# cur_cmap = 'hot'\n",
    "# cur_cmap = 'PuBuGn'\n",
    "# cur_cmap = 'BuPu'"
   ]
  },
  {
   "cell_type": "code",
   "execution_count": null,
   "metadata": {},
   "outputs": [],
   "source": [
    "# Use select_worse to only focus on bad-performing classes\n",
    "select_worse = True\n",
    "\n",
    "cls_selector = (conf_mat_low.flatten() if select_worse else np.arange(conf_mat.shape[0]))\n",
    "\n",
    "plt.figure(figsize=(16,16))\n",
    "plt.imshow(conf_mat[cls_selector, ::], \n",
    "           interpolation='nearest', cmap=cur_cmap)\n",
    "plt.show()"
   ]
  },
  {
   "cell_type": "code",
   "execution_count": null,
   "metadata": {},
   "outputs": [],
   "source": [
    "# Use select_worse to only focus on bad-performing classes\n",
    "select_worse = True\n",
    "\n",
    "cls_selector = (conf_mat_low_flickr.flatten() if select_worse \n",
    "                else np.arange(conf_mat_flickr.shape[0]))\n",
    "scatter_idx = (np.arange(len(conf_mat_low_flickr.flatten())) if select_worse\n",
    "               else np.arange(conf_mat_flickr.shape[0]))\n",
    "\n",
    "plt.figure(figsize=(16,16))\n",
    "plt.imshow(conf_mat_flickr[cls_selector, ::], \n",
    "           interpolation='nearest', cmap=cur_cmap)\n",
    "\n",
    "plt.scatter(cls_selector, scatter_idx, marker='*')\n",
    "plt.show()\n",
    "# plt.colorbar()"
   ]
  },
  {
   "cell_type": "code",
   "execution_count": null,
   "metadata": {},
   "outputs": [],
   "source": [
    "cur_idx = 125\n",
    "print(conf_mat_flickr[cur_idx])\n",
    "print(conf_mat_flickr[cur_idx][cur_idx])"
   ]
  },
  {
   "cell_type": "code",
   "execution_count": null,
   "metadata": {},
   "outputs": [],
   "source": []
  }
 ],
 "metadata": {
  "kernelspec": {
   "display_name": "Python 3",
   "language": "python",
   "name": "python3"
  },
  "language_info": {
   "codemirror_mode": {
    "name": "ipython",
    "version": 3
   },
   "file_extension": ".py",
   "mimetype": "text/x-python",
   "name": "python",
   "nbconvert_exporter": "python",
   "pygments_lexer": "ipython3",
   "version": "3.6.7"
  }
 },
 "nbformat": 4,
 "nbformat_minor": 4
}
