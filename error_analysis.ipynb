{
 "cells": [
  {
   "cell_type": "code",
   "execution_count": 1,
   "metadata": {},
   "outputs": [],
   "source": [
    "\n",
    "%matplotlib inline\n",
    "import numpy as np\n",
    "import matplotlib\n",
    "import matplotlib.pyplot as plt\n",
    "plt.style.use(['dark_background'])\n",
    "import pathlib\n",
    "\n",
    "import json"
   ]
  },
  {
   "cell_type": "code",
   "execution_count": 3,
   "metadata": {},
   "outputs": [],
   "source": [
    "corr_file = pathlib.Path.cwd() / 'results/resnet50/train/2020-01-30-23-31-04/corr.json'\n",
    "with open(corr_file) as fn:\n",
    "    corr_dict = json.load(fn)\n",
    "    \n",
    "tiny_wnid_file = (pathlib.Path.cwd() / \n",
    "                  '../search_download_images/flickr/tiny_classes_to_search.json').resolve()\n",
    "with open(tiny_wnid_file) as fn:\n",
    "    tiny_dict = json.load(fn)"
   ]
  },
  {
   "cell_type": "code",
   "execution_count": 4,
   "metadata": {},
   "outputs": [
    {
     "ename": "NameError",
     "evalue": "name 'acc_dist' is not defined",
     "output_type": "error",
     "traceback": [
      "\u001b[0;31m---------------------------------------------------------------------------\u001b[0m",
      "\u001b[0;31mNameError\u001b[0m                                 Traceback (most recent call last)",
      "\u001b[0;32m<ipython-input-4-148495ef26a1>\u001b[0m in \u001b[0;36m<module>\u001b[0;34m\u001b[0m\n\u001b[0;32m----> 1\u001b[0;31m \u001b[0macc_dist\u001b[0m\u001b[0;34m[\u001b[0m\u001b[0macc_sorted_idx\u001b[0m\u001b[0;34m]\u001b[0m\u001b[0;34m\u001b[0m\u001b[0;34m\u001b[0m\u001b[0m\n\u001b[0m",
      "\u001b[0;31mNameError\u001b[0m: name 'acc_dist' is not defined"
     ]
    }
   ],
   "source": [
    "acc_dist[acc_sorted_idx]"
   ]
  },
  {
   "cell_type": "code",
   "execution_count": 5,
   "metadata": {},
   "outputs": [
    {
     "data": {
      "image/png": "[encoded data removed]",
      "text/plain": [
       "<Figure size 1152x576 with 1 Axes>"
      ]
     },
     "metadata": {
      "needs_background": "dark"
     },
     "output_type": "display_data"
    }
   ],
   "source": [
    "acc_dist = [x/50 for x in corr_dict.values()]\n",
    "wnid_dist = [k for k in corr_dict.keys()]\n",
    "\n",
    "acc_sorted_idx = np.argsort(-np.array(acc_dist))\n",
    "\n",
    "plt.figure(figsize=(16,8))\n",
    "plt.xticks(rotation=90)\n",
    "# train_bar = plt.bar(wnid_dist[acc_sorted_idx], acc_dist[acc_sorted_idx], facecolor='aqua', alpha=0.9\n",
    "train_bar = plt.bar(np.arange(len(acc_sorted_idx)), np.array(acc_dist)[acc_sorted_idx], facecolor='aqua', alpha=0.9)"
   ]
  },
  {
   "cell_type": "markdown",
   "metadata": {},
   "source": [
    "#### Flickr images error distribution"
   ]
  },
  {
   "cell_type": "code",
   "execution_count": 6,
   "metadata": {},
   "outputs": [],
   "source": [
    "corr_file_flickr = pathlib.Path.cwd() / 'results/resnet50/candidate/2020-01-31-02-23-50/corr.json'\n",
    "with open(corr_file_flickr) as fn:\n",
    "    corr_dict_flickr = json.load(fn)"
   ]
  },
  {
   "cell_type": "code",
   "execution_count": 7,
   "metadata": {},
   "outputs": [
    {
     "data": {
      "image/png": "[encoded data removed]",
      "text/plain": [
       "<Figure size 1152x576 with 1 Axes>"
      ]
     },
     "metadata": {
      "needs_background": "dark"
     },
     "output_type": "display_data"
    }
   ],
   "source": [
    "acc_dist_flickr = [corr_dict_flickr[k]/50 for k in wnid_dist]\n",
    "\n",
    "acc_sorted_idx_flickr = np.argsort(-np.array(acc_dist_flickr))\n",
    "\n",
    "plt.figure(figsize=(16,8))\n",
    "plt.xticks(rotation=90)\n",
    "# train_bar = plt.bar(wnid_dist, acc_dist_flickr, facecolor='orange', alpha=0.9)\n",
    "train_bar = plt.bar(np.arange(len(acc_sorted_idx_flickr)), np.array(acc_dist_flickr)[acc_sorted_idx_flickr], facecolor='orange', alpha=0.9)"
   ]
  },
  {
   "cell_type": "code",
   "execution_count": 9,
   "metadata": {},
   "outputs": [],
   "source": [
    "import scipy.stats\n",
    "def clopper_pearson(k,n,alpha=0.32):\n",
    "    \"\"\"\n",
    "    http://en.wikipedia.org/wiki/Binomial_proportion_confidence_interval\n",
    "    alpha confidence intervals for a binomial distribution of k expected successes on n trials\n",
    "    Clopper Pearson intervals are a conservative estimate.\n",
    "    \"\"\"\n",
    "    lo = scipy.stats.beta.ppf(alpha/2, k, n-k+1)\n",
    "    hi = scipy.stats.beta.ppf(1 - alpha/2, k+1, n-k)\n",
    "    if str(hi) == 'nan':\n",
    "        hi = 1\n",
    "    return lo, hi"
   ]
  },
  {
   "cell_type": "code",
   "execution_count": 10,
   "metadata": {},
   "outputs": [],
   "source": [
    "sorted_im_acc = np.array(acc_dist)[acc_sorted_idx]\n",
    "sorted_fli_acc = np.array(acc_dist_flickr)[acc_sorted_idx_flickr]\n",
    "\n",
    "im_arr = [(clopper_pearson(int(k*50), 50, 0.05)) for k in sorted_im_acc]\n",
    "fli_arr = [(clopper_pearson(int(k*50), 50, 0.05)) for k in sorted_fli_acc]"
   ]
  },
  {
   "cell_type": "code",
   "execution_count": 184,
   "metadata": {},
   "outputs": [],
   "source": [
    "cur_file = pathlib.Path.cwd() / 'results/resnet50/candidate/2020-02-01-00-56-14/error_histogram.txt'\n",
    "\n",
    "np.savetxt(cur_file,\n",
    "           np.column_stack((\n",
    "               sorted_im_acc,\n",
    "               sorted_fli_acc, \n",
    "               np.array([i[0] for i in im_arr]), \n",
    "               np.array([i[1] for i in im_arr]), \n",
    "               np.array([i[0] for i in fli_arr]), \n",
    "               np.array([i[1] for i in fli_arr]))),   # two column format\n",
    "           header='imagenet flickr im_low im_high fli_low fli_high',\n",
    "           comments='',\n",
    "           fmt=\"%.2f\")"
   ]
  },
  {
   "cell_type": "code",
   "execution_count": 12,
   "metadata": {
    "scrolled": false
   },
   "outputs": [
    {
     "name": "stdout",
     "output_type": "stream",
     "text": [
      "[66]:\t wnid: n03804744,\t flickr_acc: 62.0,\t imnet_acc: 62.0,\t diff: 0.0,\t num_imgs: 8733\n",
      "\n",
      "\n",
      "\n",
      "[72]:\t wnid: n02841315,\t flickr_acc: 68.0,\t imnet_acc: 70.0,\t diff: -2.0,\t num_imgs: 3471\n",
      "[81]:\t wnid: n02906734,\t flickr_acc: 66.0,\t imnet_acc: 68.0,\t diff: -2.0,\t num_imgs: 5971\n",
      "[86]:\t wnid: n02814533,\t flickr_acc: 68.0,\t imnet_acc: 72.0,\t diff: -4.0,\t num_imgs: 15673\n",
      "[104]:\t wnid: n02233338,\t flickr_acc: 58.0,\t imnet_acc: 70.0,\t diff: -12.0,\t num_imgs: 3268\n",
      "[107]:\t wnid: n01984695,\t flickr_acc: 68.0,\t imnet_acc: 84.0,\t diff: -16.0,\t num_imgs: 4967\n",
      "[110]:\t wnid: n02909870,\t flickr_acc: 60.0,\t imnet_acc: 76.0,\t diff: -16.0,\t num_imgs: 10548\n",
      "[111]:\t wnid: n03355925,\t flickr_acc: 58.0,\t imnet_acc: 74.0,\t diff: -16.0,\t num_imgs: 8728\n",
      "[112]:\t wnid: n04074963,\t flickr_acc: 64.0,\t imnet_acc: 82.0,\t diff: -18.0,\t num_imgs: 12654\n",
      "[114]:\t wnid: n02403003,\t flickr_acc: 60.0,\t imnet_acc: 80.0,\t diff: -20.0,\t num_imgs: 3551\n",
      "[115]:\t wnid: n02730930,\t flickr_acc: 56.0,\t imnet_acc: 78.0,\t diff: -22.0,\t num_imgs: 6034\n",
      "[116]:\t wnid: n09332890,\t flickr_acc: 50.0,\t imnet_acc: 72.0,\t diff: -22.0,\t num_imgs: 17419\n",
      "[117]:\t wnid: n02791270,\t flickr_acc: 62.0,\t imnet_acc: 86.0,\t diff: -24.0,\t num_imgs: 5848\n",
      "[118]:\t wnid: n02795169,\t flickr_acc: 64.0,\t imnet_acc: 88.0,\t diff: -24.0,\t num_imgs: 13151\n",
      "[119]:\t wnid: n03014705,\t flickr_acc: 58.0,\t imnet_acc: 84.0,\t diff: -26.0,\t num_imgs: 7566\n",
      "[120]:\t wnid: n06596364,\t flickr_acc: 64.0,\t imnet_acc: 90.0,\t diff: -26.0,\t num_imgs: 3721\n",
      "[121]:\t wnid: n04067472,\t flickr_acc: 44.0,\t imnet_acc: 72.0,\t diff: -28.0,\t num_imgs: 3476\n",
      "[122]:\t wnid: n07579787,\t flickr_acc: 40.0,\t imnet_acc: 70.0,\t diff: -30.0,\t num_imgs: 19692\n",
      "[123]:\t wnid: n09428293,\t flickr_acc: 30.0,\t imnet_acc: 60.0,\t diff: -30.0,\t num_imgs: 16902\n",
      "[124]:\t wnid: n03089624,\t flickr_acc: 48.0,\t imnet_acc: 78.0,\t diff: -30.0,\t num_imgs: 3361\n",
      "[125]:\t wnid: n02977058,\t flickr_acc: 52.0,\t imnet_acc: 84.0,\t diff: -32.0,\t num_imgs: 3743\n",
      "[126]:\t wnid: n04285008,\t flickr_acc: 44.0,\t imnet_acc: 76.0,\t diff: -32.0,\t num_imgs: 8681\n",
      "[127]:\t wnid: n09193705,\t flickr_acc: 46.0,\t imnet_acc: 80.0,\t diff: -34.0,\t num_imgs: 4455\n",
      "[128]:\t wnid: n04070727,\t flickr_acc: 58.0,\t imnet_acc: 92.0,\t diff: -34.0,\t num_imgs: 3495\n",
      "[129]:\t wnid: n07747607,\t flickr_acc: 40.0,\t imnet_acc: 78.0,\t diff: -38.0,\t num_imgs: 35489\n",
      "[130]:\t wnid: n07615774,\t flickr_acc: 38.0,\t imnet_acc: 78.0,\t diff: -40.0,\t num_imgs: 6481\n",
      "[131]:\t wnid: n03977966,\t flickr_acc: 46.0,\t imnet_acc: 90.0,\t diff: -44.0,\t num_imgs: 14994\n",
      "[132]:\t wnid: n03770439,\t flickr_acc: 18.0,\t imnet_acc: 74.0,\t diff: -56.0,\t num_imgs: 7021\n",
      "[133]:\t wnid: n03201208,\t flickr_acc: 32.0,\t imnet_acc: 88.0,\t diff: -56.0,\t num_imgs: 19756\n",
      "[134]:\t wnid: n01985128,\t flickr_acc: 10.0,\t imnet_acc: 68.0,\t diff: -58.0,\t num_imgs: 3292\n",
      "[135]:\t wnid: n02229544,\t flickr_acc: 6.0,\t imnet_acc: 66.0,\t diff: -60.0,\t num_imgs: 11170\n"
     ]
    }
   ],
   "source": [
    "sort_idx = np.argsort(np.array([acc_dist_flickr[i]-acc_dist[i] for i in range(len(acc_dist))]))\n",
    "cand_dir = pathlib.Path.cwd() / 'data/candidate/'\n",
    "other_cand_dir = pathlib.Path.cwd() / 'data/candidate_other/'\n",
    "\n",
    "rev_flag = False\n",
    "cnt = 0\n",
    "for cur_wnid in [wnid_dist[idx] for idx in sort_idx[::-1]]:\n",
    "    f_acc = corr_dict_flickr[cur_wnid]/50\n",
    "    i_acc = corr_dict[cur_wnid]/50\n",
    "    \n",
    "    if (not rev_flag) and (f_acc < i_acc):\n",
    "        rev_flag = True\n",
    "        print('\\n\\n')\n",
    "    \n",
    "    cnt += 1\n",
    "    if f_acc < 0.7:\n",
    "        cur_dir = (cand_dir / cur_wnid if (cand_dir / cur_wnid).is_dir() else other_cand_dir / cur_wnid)\n",
    "        print('[{}]:\\t wnid: {},\\t flickr_acc: {:.1f},\\t imnet_acc: {:.1f},\\t diff: {:.1f},\\t num_imgs: {}'\n",
    "             .format(cnt, cur_wnid, f_acc*100, i_acc*100, (f_acc*100-i_acc*100), len(list( cur_dir.iterdir()))))"
   ]
  },
  {
   "cell_type": "code",
   "execution_count": 91,
   "metadata": {},
   "outputs": [],
   "source": [
    "top100_file = pathlib.Path.cwd() / 'top100_wnid_on_acc_diff.json'\n",
    "\n",
    "with open(top100_file, 'w') as f:\n",
    "    json.dump([wnid_dist[idx] for idx in sort_idx[::-1]][:100], f, indent=2)"
   ]
  },
  {
   "cell_type": "code",
   "execution_count": null,
   "metadata": {},
   "outputs": [],
   "source": []
  },
  {
   "cell_type": "markdown",
   "metadata": {},
   "source": [
    "### Confusion Matrix"
   ]
  },
  {
   "cell_type": "code",
   "execution_count": 2,
   "metadata": {},
   "outputs": [],
   "source": [
    "num_test = 50          # number of test examples, don't change for ImageNet.\n",
    "\n",
    "# original\n",
    "npy_file = pathlib.Path.cwd() / 'results/resnet50/train/2020-02-01-00-02-47/confmat.npy'\n",
    "npy_file_flickr = pathlib.Path.cwd() / 'results/resnet50/candidate/2020-02-01-00-38-38/confmat.npy'\n",
    "\n",
    "# for standalone use as an example notebook. Adjust the directory information\n",
    "# npy_file = pathlib.Path.cwd() / 'confmat.npy'\n",
    "# npy_file_flickr = pathlib.Path.cwd() / 'confmat_flickr.npy'\n",
    "\n",
    "\n",
    "conf_mat = np.load(npy_file)\n",
    "conf_mat = np.stack([conf_mat[i,:] / num_test for i in range(conf_mat.shape[0])])\n",
    "conf_mat_diag = np.array([conf_mat[i][i] for i in range(conf_mat.shape[0])])\n",
    "conf_mat_low = np.argwhere(conf_mat_diag < 0.6)\n",
    "\n",
    "conf_mat_flickr = np.load(npy_file_flickr)\n",
    "conf_mat_flickr = np.stack([conf_mat_flickr[i,:] / num_test for i in range(conf_mat_flickr.shape[0])])\n",
    "conf_mat_diag_flickr = np.array([conf_mat_flickr[i][i] for i in range(conf_mat_flickr.shape[0])])\n",
    "conf_mat_low_flickr = np.argwhere(conf_mat_diag_flickr < 0.6)"
   ]
  },
  {
   "cell_type": "code",
   "execution_count": 3,
   "metadata": {},
   "outputs": [],
   "source": [
    "cur_cmap = 'pink'\n",
    "# cur_cmap = 'Blues'\n",
    "# cur_cmap = 'hot'\n",
    "# cur_cmap = 'PuBuGn'\n",
    "# cur_cmap = 'BuPu'"
   ]
  },
  {
   "cell_type": "code",
   "execution_count": null,
   "metadata": {},
   "outputs": [],
   "source": [
    "select_worse = False\n",
    "\n",
    "cls_selector = (conf_mat_low.flatten() if select_worse else np.arange(conf_mat.shape[0]))\n",
    "\n",
    "plt.figure(figsize=(16,16))\n",
    "plt.imshow(conf_mat[cls_selector, ::], \n",
    "           interpolation='nearest', cmap=cur_cmap)\n",
    "plt.show()"
   ]
  },
  {
   "cell_type": "code",
   "execution_count": null,
   "metadata": {},
   "outputs": [],
   "source": [
    "select_worse = False\n",
    "\n",
    "cls_selector = (conf_mat_low_flickr.flatten() if select_worse \n",
    "                else np.arange(conf_mat_flickr.shape[0]))\n",
    "scatter_idx = (np.arange(len(conf_mat_low_flickr.flatten())) if select_worse\n",
    "               else np.arange(conf_mat_flickr.shape[0]))\n",
    "\n",
    "plt.figure(figsize=(16,16))\n",
    "plt.imshow(conf_mat_flickr[cls_selector, ::], \n",
    "           interpolation='nearest', cmap=cur_cmap)\n",
    "\n",
    "plt.scatter(cls_selector, scatter_idx, marker='*')\n",
    "plt.show()\n",
    "# plt.colorbar()"
   ]
  },
  {
   "cell_type": "code",
   "execution_count": null,
   "metadata": {},
   "outputs": [],
   "source": [
    "cur_idx = 125\n",
    "print(conf_mat_flickr[cur_idx])\n",
    "print(conf_mat_flickr[cur_idx][cur_idx])"
   ]
  },
  {
   "cell_type": "markdown",
   "metadata": {},
   "source": [
    "#### Sort by worse performance and record top-5 cross error"
   ]
  },
  {
   "cell_type": "code",
   "execution_count": 6,
   "metadata": {},
   "outputs": [],
   "source": [
    "# sort the confusion matrix by the rows\n",
    "sorted_idx = np.argsort(conf_mat_diag_flickr)\n",
    "conf_mat_sorted_flickr = conf_mat_flickr[sorted_idx, ::]\n",
    "\n",
    "# load index to class wnid mappings\n",
    "idx2cls_file = pathlib.Path.cwd() / 'results/resnet50/candidate/2020-02-01-00-56-14/idx2cls.json'\n",
    "with open(idx2cls_file) as fn:\n",
    "    idx2cls = json.load(fn)"
   ]
  },
  {
   "cell_type": "code",
   "execution_count": 27,
   "metadata": {},
   "outputs": [],
   "source": [
    "row_data = []     # this is row based format, not so good for pgfplots\n",
    "row_data_t = []   # this is the two column format\n",
    "\n",
    "for cur_idx, cur_row in enumerate(conf_mat_sorted_flickr):\n",
    "    if cur_row[sorted_idx[cur_idx]] < 1.1:\n",
    "        cur_list = []\n",
    "        cur_list.append([idx2cls[str(sorted_idx[cur_idx])], cur_row[sorted_idx[cur_idx]]])\n",
    "        \n",
    "        cur_sorted_idx = np.argsort(-cur_row)\n",
    "        cur_sorted_idx = cur_sorted_idx[cur_sorted_idx != sorted_idx[cur_idx]]\n",
    "        \n",
    "        cur_list += [[idx2cls[str(i)], cur_row[i]] for i in cur_sorted_idx]\n",
    "        row_data.append([i for l in cur_list for i in l])\n",
    "        row_data_t += cur_list"
   ]
  },
  {
   "cell_type": "code",
   "execution_count": 28,
   "metadata": {},
   "outputs": [
    {
     "data": {
      "text/plain": [
       "(135, 135)"
      ]
     },
     "execution_count": 28,
     "metadata": {},
     "output_type": "execute_result"
    }
   ],
   "source": [
    "np.vstack(row_data)[:,1::2].T.shape"
   ]
  },
  {
   "cell_type": "code",
   "execution_count": 30,
   "metadata": {},
   "outputs": [
    {
     "data": {
      "text/plain": [
       "array(['0.4', '0.54', '0.02', '0.02', '0.02', '0.0', '0.0', '0.0', '0.0',\n",
       "       '0.0', '0.0', '0.0', '0.0', '0.0', '0.0', '0.0', '0.0', '0.0',\n",
       "       '0.0', '0.0', '0.0', '0.0', '0.0', '0.0', '0.0', '0.0', '0.0',\n",
       "       '0.0', '0.0', '0.0', '0.0', '0.0', '0.0', '0.0', '0.0', '0.0',\n",
       "       '0.0', '0.0', '0.0', '0.0', '0.0', '0.0', '0.0', '0.0', '0.0',\n",
       "       '0.0', '0.0', '0.0', '0.0', '0.0', '0.0', '0.0', '0.0', '0.0',\n",
       "       '0.0', '0.0', '0.0', '0.0', '0.0', '0.0', '0.0', '0.0', '0.0',\n",
       "       '0.0', '0.0', '0.0', '0.0', '0.0', '0.0', '0.0', '0.0', '0.0',\n",
       "       '0.0', '0.0', '0.0', '0.0', '0.0', '0.0', '0.0', '0.0', '0.0',\n",
       "       '0.0', '0.0', '0.0', '0.0', '0.0', '0.0', '0.0', '0.0', '0.0',\n",
       "       '0.0', '0.0', '0.0', '0.0', '0.0', '0.0', '0.0', '0.0', '0.0',\n",
       "       '0.0', '0.0', '0.0', '0.0', '0.0', '0.0', '0.0', '0.0', '0.0',\n",
       "       '0.0', '0.0', '0.0', '0.0', '0.0', '0.0', '0.0', '0.0', '0.0',\n",
       "       '0.0', '0.0', '0.0', '0.0', '0.0', '0.0', '0.0', '0.0', '0.0',\n",
       "       '0.0', '0.0', '0.0', '0.0', '0.0', '0.0', '0.0', '0.0', '0.0'],\n",
       "      dtype='<U9')"
      ]
     },
     "execution_count": 30,
     "metadata": {},
     "output_type": "execute_result"
    }
   ],
   "source": [
    "np.vstack(row_data)[:,1::2].T[:,6]"
   ]
  },
  {
   "cell_type": "code",
   "execution_count": 29,
   "metadata": {},
   "outputs": [],
   "source": [
    "conf_bar_file = idx2cls_file.parent / 'conf_bar_plots.txt'\n",
    "\n",
    "cur_header = 'orig orig_acc'\n",
    "for i in range(1,6):\n",
    "    cur_wnid = ' wnid' + str(i)\n",
    "    cur_header += cur_wnid*2 + '_acc'\n",
    "\n",
    "np.savetxt(conf_bar_file, \n",
    "           # np.vstack(row_data),   # non-pgfplots format\n",
    "           np.vstack(row_data)[:,1::2].T, # two column format\n",
    "           # header=cur_header,\n",
    "#            header='wnid acc',\n",
    "           comments='',\n",
    "           fmt=\"%s\")"
   ]
  },
  {
   "cell_type": "code",
   "execution_count": 142,
   "metadata": {},
   "outputs": [],
   "source": [
    "# np.vstack(row_data)[:,1::2].T.astype(float)[0,:20]\n",
    "zeroed_conf = np.vstack((np.vstack(row_data)[:,1::2].T.astype(float)[0,:20], np.zeros((9,20))))"
   ]
  },
  {
   "cell_type": "code",
   "execution_count": 143,
   "metadata": {},
   "outputs": [
    {
     "data": {
      "text/plain": [
       "array([[0.06, 0.1 , 0.18, 0.3 , 0.32, 0.38, 0.4 , 0.4 , 0.44, 0.44, 0.46,\n",
       "        0.46, 0.48, 0.5 , 0.52, 0.56, 0.58, 0.58, 0.58, 0.58],\n",
       "       [0.  , 0.  , 0.  , 0.  , 0.  , 0.  , 0.  , 0.  , 0.  , 0.  , 0.  ,\n",
       "        0.  , 0.  , 0.  , 0.  , 0.  , 0.  , 0.  , 0.  , 0.  ],\n",
       "       [0.  , 0.  , 0.  , 0.  , 0.  , 0.  , 0.  , 0.  , 0.  , 0.  , 0.  ,\n",
       "        0.  , 0.  , 0.  , 0.  , 0.  , 0.  , 0.  , 0.  , 0.  ],\n",
       "       [0.  , 0.  , 0.  , 0.  , 0.  , 0.  , 0.  , 0.  , 0.  , 0.  , 0.  ,\n",
       "        0.  , 0.  , 0.  , 0.  , 0.  , 0.  , 0.  , 0.  , 0.  ],\n",
       "       [0.  , 0.  , 0.  , 0.  , 0.  , 0.  , 0.  , 0.  , 0.  , 0.  , 0.  ,\n",
       "        0.  , 0.  , 0.  , 0.  , 0.  , 0.  , 0.  , 0.  , 0.  ],\n",
       "       [0.  , 0.  , 0.  , 0.  , 0.  , 0.  , 0.  , 0.  , 0.  , 0.  , 0.  ,\n",
       "        0.  , 0.  , 0.  , 0.  , 0.  , 0.  , 0.  , 0.  , 0.  ],\n",
       "       [0.  , 0.  , 0.  , 0.  , 0.  , 0.  , 0.  , 0.  , 0.  , 0.  , 0.  ,\n",
       "        0.  , 0.  , 0.  , 0.  , 0.  , 0.  , 0.  , 0.  , 0.  ],\n",
       "       [0.  , 0.  , 0.  , 0.  , 0.  , 0.  , 0.  , 0.  , 0.  , 0.  , 0.  ,\n",
       "        0.  , 0.  , 0.  , 0.  , 0.  , 0.  , 0.  , 0.  , 0.  ],\n",
       "       [0.  , 0.  , 0.  , 0.  , 0.  , 0.  , 0.  , 0.  , 0.  , 0.  , 0.  ,\n",
       "        0.  , 0.  , 0.  , 0.  , 0.  , 0.  , 0.  , 0.  , 0.  ],\n",
       "       [0.  , 0.  , 0.  , 0.  , 0.  , 0.  , 0.  , 0.  , 0.  , 0.  , 0.  ,\n",
       "        0.  , 0.  , 0.  , 0.  , 0.  , 0.  , 0.  , 0.  , 0.  ]])"
      ]
     },
     "execution_count": 143,
     "metadata": {},
     "output_type": "execute_result"
    }
   ],
   "source": [
    "zeroed_conf"
   ]
  },
  {
   "cell_type": "code",
   "execution_count": 140,
   "metadata": {},
   "outputs": [
    {
     "data": {
      "text/plain": [
       "(11, 20)"
      ]
     },
     "execution_count": 140,
     "metadata": {},
     "output_type": "execute_result"
    }
   ],
   "source": [
    "zeroed_conf.shape"
   ]
  },
  {
   "cell_type": "code",
   "execution_count": 144,
   "metadata": {},
   "outputs": [],
   "source": [
    "conf_bar_file = idx2cls_file.parent / 'conf_zeroed.txt'\n",
    "\n",
    "np.savetxt(conf_bar_file, \n",
    "           # np.vstack(row_data),   # non-pgfplots format\n",
    "           zeroed_conf, # two column format\n",
    "           # header=cur_header,\n",
    "#            header='wnid acc',\n",
    "           comments='',\n",
    "           fmt=\"%f\")"
   ]
  },
  {
   "cell_type": "code",
   "execution_count": null,
   "metadata": {},
   "outputs": [],
   "source": [
    "# Individual files as pgfplots is a pia to use with custom ticklabels otherwise!!!\n",
    "conf_bar_dir = idx2cls_file.parent / 'conf_plots'\n",
    "conf_bar_dir.mkdir(exist_ok=True)\n",
    "\n",
    "for i in range(len(row_data)):\n",
    "    cur_list = [row_data_t[j] for j in range(i*6, i*6+6)]\n",
    "    cur_file = conf_bar_dir / ('conf' + str(i).zfill(2) + '.txt')\n",
    "    \n",
    "    np.savetxt(cur_file,\n",
    "               np.vstack(cur_list),   # two column format\n",
    "               header='wnid acc',\n",
    "               comments='',\n",
    "               fmt=\"%s\")"
   ]
  },
  {
   "cell_type": "code",
   "execution_count": null,
   "metadata": {},
   "outputs": [],
   "source": [
    "select_worse = False\n",
    "\n",
    "cls_selector = (conf_mat_low_flickr.flatten() if select_worse \n",
    "                else np.arange(conf_mat_flickr.shape[0]))\n",
    "scatter_idx = (np.arange(len(conf_mat_low_flickr.flatten())) if select_worse\n",
    "               else np.arange(conf_mat_flickr.shape[0])[sorted_idx])\n",
    "\n",
    "plt.figure(figsize=(16,16))\n",
    "plt.imshow(conf_mat_sorted_flickr[cls_selector, ::], \n",
    "           interpolation='nearest', cmap=cur_cmap)\n",
    "\n",
    "# plt.scatter(cls_selector, scatter_idx, marker='*')\n",
    "plt.scatter(scatter_idx, cls_selector, marker='*')\n",
    "plt.show()"
   ]
  },
  {
   "cell_type": "markdown",
   "metadata": {},
   "source": [
    "#### Get the number of images"
   ]
  },
  {
   "cell_type": "code",
   "execution_count": 146,
   "metadata": {},
   "outputs": [],
   "source": [
    "cand_dir = pathlib.Path.cwd() / 'data/candidate/'\n",
    "\n",
    "num_imgs_dict = {}\n",
    "for cur_wnid in [wnid_dist[idx] for idx in sort_idx[::-1]][:100]:\n",
    "    num_imgs_dict[cur_wnid] = len(list((cand_dir / cur_wnid).iterdir()))"
   ]
  },
  {
   "cell_type": "code",
   "execution_count": 149,
   "metadata": {},
   "outputs": [
    {
     "data": {
      "text/plain": [
       "1449437"
      ]
     },
     "execution_count": 149,
     "metadata": {},
     "output_type": "execute_result"
    }
   ],
   "source": [
    "sum([i for i in num_imgs_dict.values()])"
   ]
  },
  {
   "cell_type": "markdown",
   "metadata": {},
   "source": [
    "#### Bar plots for error distribution"
   ]
  },
  {
   "cell_type": "code",
   "execution_count": 124,
   "metadata": {},
   "outputs": [
    {
     "data": {
      "image/png": "[encoded data removed]",
      "text/plain": [
       "<Figure size 2304x1152 with 20 Axes>"
      ]
     },
     "metadata": {},
     "output_type": "display_data"
    }
   ],
   "source": [
    "# selected_cls = list(range(5)) + list(range(10,15))\n",
    "selected_cls = range(20)\n",
    "err_mat = np.vstack(row_data)[:,1::2].astype(float)\n",
    "\n",
    "cur_num_cols = int(8)\n",
    "cur_num_rows = int(np.ceil(len(selected_cls) / cur_num_cols))\n",
    "fig = plt.figure(figsize=(32,16))\n",
    "for cur_idx, cur_cls in enumerate(selected_cls):\n",
    "#     cur_nonzero = [i for i, err in enumerate(err_mat[cur_cls]) if float(err) > 0]\n",
    "    cur_nonzero = np.arange(10)\n",
    "\n",
    "    \n",
    "    cur_ax = plt.subplot(cur_num_rows, cur_num_cols, int(cur_idx + 1))\n",
    "    if True:# cur_idx < 5:\n",
    "        cur_ax.set_ylim([0,0.8])\n",
    "    cur_width = 0.3\n",
    "    plt.bar(cur_nonzero*cur_width, err_mat[cur_cls][cur_nonzero], cur_width)\n",
    "    cur_ax.set_title(str( err_mat[cur_cls][0] - corr_dict[idx2cls[str(sorted_idx[cur_idx])]]/50))\n",
    "    \n",
    "\n",
    "# fig.tight_layout()\n",
    "plt.show()"
   ]
  },
  {
   "cell_type": "code",
   "execution_count": null,
   "metadata": {},
   "outputs": [],
   "source": []
  },
  {
   "cell_type": "code",
   "execution_count": 44,
   "metadata": {},
   "outputs": [
    {
     "data": {
      "text/plain": [
       "array(['0.52', '0.08', '0.04', '0.04', '0.04', '0.04', '0.04', '0.02',\n",
       "       '0.02', '0.02', '0.02', '0.02', '0.02', '0.02', '0.02', '0.02',\n",
       "       '0.02'], dtype='<U9')"
      ]
     },
     "execution_count": 44,
     "metadata": {},
     "output_type": "execute_result"
    }
   ],
   "source": [
    "err_mat[cur_cls][cur_nonzero]"
   ]
  },
  {
   "cell_type": "code",
   "execution_count": 56,
   "metadata": {},
   "outputs": [
    {
     "data": {
      "text/plain": [
       "[0, 1, 2, 3, 4, 5, 6, 7, 8, 9, 10, 11, 12, 13, 14, 15, 16]"
      ]
     },
     "execution_count": 56,
     "metadata": {},
     "output_type": "execute_result"
    }
   ],
   "source": [
    "cur_nonzero"
   ]
  },
  {
   "cell_type": "code",
   "execution_count": 60,
   "metadata": {},
   "outputs": [
    {
     "data": {
      "text/plain": [
       "3"
      ]
     },
     "execution_count": 60,
     "metadata": {},
     "output_type": "execute_result"
    }
   ],
   "source": [
    "cur_num_rows"
   ]
  },
  {
   "cell_type": "code",
   "execution_count": 72,
   "metadata": {},
   "outputs": [
    {
     "data": {
      "text/plain": [
       "0.3"
      ]
     },
     "execution_count": 72,
     "metadata": {},
     "output_type": "execute_result"
    }
   ],
   "source": [
    "cur_ax.patches[0].get_width()"
   ]
  },
  {
   "cell_type": "code",
   "execution_count": 76,
   "metadata": {},
   "outputs": [
    {
     "data": {
      "text/plain": [
       "<matplotlib.axes._subplots.AxesSubplot at 0x7fbe13ae0eb8>"
      ]
     },
     "execution_count": 76,
     "metadata": {},
     "output_type": "execute_result"
    }
   ],
   "source": [
    "cur_ax.set"
   ]
  },
  {
   "cell_type": "code",
   "execution_count": 81,
   "metadata": {},
   "outputs": [
    {
     "data": {
      "text/plain": [
       "<matplotlib.axes._subplots.AxesSubplot at 0x7fbe19485c88>"
      ]
     },
     "execution_count": 81,
     "metadata": {},
     "output_type": "execute_result"
    },
    {
     "data": {
      "image/png": "[encoded data removed]",
      "text/plain": [
       "<Figure size 432x288 with 1 Axes>"
      ]
     },
     "metadata": {
      "needs_background": "light"
     },
     "output_type": "display_data"
    }
   ],
   "source": [
    "plt.gca()"
   ]
  },
  {
   "cell_type": "code",
   "execution_count": null,
   "metadata": {},
   "outputs": [],
   "source": []
  }
 ],
 "metadata": {
  "kernelspec": {
   "display_name": "Python 3",
   "language": "python",
   "name": "python3"
  },
  "language_info": {
   "codemirror_mode": {
    "name": "ipython",
    "version": 3
   },
   "file_extension": ".py",
   "mimetype": "text/x-python",
   "name": "python",
   "nbconvert_exporter": "python",
   "pygments_lexer": "ipython3",
   "version": "3.6.7"
  }
 },
 "nbformat": 4,
 "nbformat_minor": 4
}
